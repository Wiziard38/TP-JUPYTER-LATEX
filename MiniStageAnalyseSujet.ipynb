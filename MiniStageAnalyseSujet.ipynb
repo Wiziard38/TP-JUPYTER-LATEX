{
 "cells": [
  {
   "cell_type": "markdown",
   "metadata": {},
   "source": [
    "# Mini-stage d'analyse pour l'ingénieur\n",
    "**Brigitte Bidegaray-Fesquet, Anastasia Konik, Nils Laurent, Hubert Leterme**"
   ]
  },
  {
   "cell_type": "markdown",
   "metadata": {},
   "source": [
    "Tous les documents pour ce TP sont disponibles dans le dossier [TP Jupyter LaTeX](https://chamilo.grenoble-inp.fr/main/document/document.php?cidReq=ENSIMAG3MMAI&id_session=0&gidReq=0&gradebook=0&origin=&id=775120) sur Chamilo.\n",
    "\n",
    "#### Le but de ce mini-stage est\n",
    "* de faire connaissance avec certaines librairies python permettant le calcul numérique ;\n",
    "* de faire connaissance avec l'écriture de formules en LaTeX, outil de traitement de texte utilisé par les scientifiques ;\n",
    "* d'apprendre à rédiger un compte-rendu de TP, à partir de quelques exercices ;\n",
    "* de présenter ce TP dans un <i>notebook</i> permettant de présenter conjointement les calculs et la démarche suivie, et permettant la reproductibilité de vos résultats.\n",
    "\n",
    "La partie 1 de ce sujet vous propose une introduction rapide aux librairies python pour les mathématiques. Prenez le temps de répondre aux questions et de parcourir l'aide. Familiarisez-vous ensuite avec l'écriture des équations en LaTeX. Des exemples vous sont donnés en éditant les zones <i>markdown</i> de ce sujet. Un exemple de document donnant la structration d'un document entièrement en LaTeX est également donné sur Chamilo. Faites enfin les exercices de la partie 3.\n",
    "\n",
    "La notation prendra en compte la qualité de la programmation du point de vue de l'utilisation du langage python et de l'algorithmique, et de la qualité de la rédaction tant en ce qui concerne la présentation en LaTeX que le contenu scientifique."
   ]
  },
  {
   "cell_type": "markdown",
   "metadata": {},
   "source": [
    "#### Consignes pour le rendu \n",
    "\n",
    "* Travailler en binôme et déclarer ces binômes sur Teide. \n",
    "Les deux membres du binôme doivent être dans le même groupe de TP.\n",
    "* Modifier le présent <i>notebook</i> en rédigeant les réponses dans les cellules indiquées par \n",
    "<font color='blue'>votre réponse ici</font> (merci de garder la couleur pour distinguer votre réponse du sujet) et les bouts de code dans les cellules prédéfinies. \n",
    "* Renommer ce <i>notebook</i> &lt;NomBinome1-NomBinome2&gt;.ipynb et le déposer sur Teide.\n",
    "* L'utilisation d'un <i>notebook</i> permet la reproductibilité des résultats. \n",
    "Il doit s'exécuter parfaitement et présenter l'analyse des résultats obtenus (et non leur paraphrase puisque les résultats sont déjà visibles dans le <i>notebook</i>) et des commentaires éventuels permettant la compréhension des choix algorithmiques effectués ou des difficultés rencontrées. \n",
    "Le compte-rendu doit néanmoins rester relativement concis.\n",
    "* Relisez-vous, soignez la présentation des figures et des formules mathématiques."
   ]
  },
  {
   "cell_type": "markdown",
   "metadata": {},
   "source": [
    "<h3 align=center>Date limite de rendu : 20 novembre 2020 à 23h59</h3>"
   ]
  },
  {
   "cell_type": "markdown",
   "metadata": {},
   "source": [
    "Bon courage à tous, et n'hésitez pas à faire appel aux encadrants aussi souvent que nécessaire !"
   ]
  },
  {
   "cell_type": "markdown",
   "metadata": {},
   "source": [
    "## 1. Prise en main de quelques librairies python et du <i>notebook</i>"
   ]
  },
  {
   "cell_type": "markdown",
   "metadata": {},
   "source": [
    "### 1.1. Introduction\n",
    "Si vous lisez ce texte, c'est que vous êtes arrivés à ouvrir le notebook. Bravo !\n",
    "\n",
    "Commencez par découvrir l'aide dans l'onglet `Help`. Vous y trouverez notamment de l'aide sur\n",
    "* le fonctionnement d'un notebook,\n",
    "* le langage markdown,\n",
    "* quelques librairies python.\n",
    "\n",
    "En double-cliquant dans les cellules de texte, vous verrez comment elles ont été rédigées. Vous verrez qu'elles combinent du markdown pur (comme dans cette cellule), de l'html (par exemple dans la cellule qui vous donne la date de rendu du TP) ou du LaTeX (cf. les formules mathématiques de la partie 2)."
   ]
  },
  {
   "cell_type": "markdown",
   "metadata": {},
   "source": [
    "Vous pouvez également accéder à la documentation de python en tapant `help()`.\n",
    "Laissez-vous guider. Essayez les recherches suivantes.\n",
    "* `print`\n",
    "* `symbols`\n",
    "\n",
    "N'oubliez pas de faire `quit` à la fin..."
   ]
  },
  {
   "cell_type": "code",
   "execution_count": 1,
   "metadata": {},
   "outputs": [],
   "source": [
    "# help()"
   ]
  },
  {
   "cell_type": "markdown",
   "metadata": {},
   "source": [
    "Vous pouvez aussi directement demander l'aide d'une fonction particulière."
   ]
  },
  {
   "cell_type": "code",
   "execution_count": 2,
   "metadata": {},
   "outputs": [
    {
     "name": "stdout",
     "output_type": "stream",
     "text": [
      "Help on built-in function print in module builtins:\n",
      "\n",
      "print(...)\n",
      "    print(value, ..., sep=' ', end='\\n', file=sys.stdout, flush=False)\n",
      "    \n",
      "    Prints the values to a stream, or to sys.stdout by default.\n",
      "    Optional keyword arguments:\n",
      "    file:  a file-like object (stream); defaults to the current sys.stdout.\n",
      "    sep:   string inserted between values, default a space.\n",
      "    end:   string appended after the last value, default a newline.\n",
      "    flush: whether to forcibly flush the stream.\n",
      "\n"
     ]
    }
   ],
   "source": [
    "help(print)"
   ]
  },
  {
   "cell_type": "markdown",
   "metadata": {},
   "source": [
    "Pour le présent TP, nous aurons besoin d'un certain nombre de librairies pour les mathématiques.\n",
    "* la commande `%matplotlib inline` permet d'effectuer les graphismes en ligne dans le <i>notebook</i>,\n",
    "* `matplotlib.pyplot` contient les fonctions pour tracer les courbes,\n",
    "* `numpy` contient les fonctions pour le travail sur les tableaux et les matrices,\n",
    "* `scipy.linalg` contient les fonctions d'algèbre linéaire,\n",
    "* `math` contient les fonctions mathématiques usuelles."
   ]
  },
  {
   "cell_type": "code",
   "execution_count": 3,
   "metadata": {},
   "outputs": [],
   "source": [
    "%matplotlib inline\n",
    "import matplotlib.pyplot as plt\n",
    "import numpy as np\n",
    "import scipy.linalg as linalg\n",
    "from math import pi, cos, sin, sqrt, e, factorial"
   ]
  },
  {
   "cell_type": "markdown",
   "metadata": {},
   "source": [
    "#### Question 1 &mdash; utiliser l'aide\n",
    "Comment accéder à la description de la fonction `scipy.linalg.eigvals`&nbsp;?"
   ]
  },
  {
   "cell_type": "markdown",
   "metadata": {},
   "source": [
    "<font color='blue'>\n",
    "Votre réponse ici. \n",
    "</font>"
   ]
  },
  {
   "cell_type": "code",
   "execution_count": null,
   "metadata": {},
   "outputs": [],
   "source": []
  },
  {
   "cell_type": "markdown",
   "metadata": {},
   "source": [
    "#### Question 2 &mdash; explorer les librairies\n",
    "Trouver une commande qui permet de définir la matrice identité."
   ]
  },
  {
   "cell_type": "markdown",
   "metadata": {},
   "source": [
    "<font color='blue'>\n",
    "Votre réponse ici. \n",
    "</font>"
   ]
  },
  {
   "cell_type": "code",
   "execution_count": null,
   "metadata": {},
   "outputs": [],
   "source": []
  },
  {
   "cell_type": "markdown",
   "metadata": {},
   "source": [
    "### 1.2. Vecteurs et matrices\n",
    "La façon la plus simple de définir une matrice $n \\times m$ en python est d'entrer au clavier la liste de ses éléments, par exemple\n",
    "\n",
    "```\n",
    "A = np.array([[a11, a12, a13], [a21, a22, a23]])\n",
    "```\n",
    "\n",
    "**Opérations élémentaires**\n",
    "\n",
    "* `A[k, :]` $k$-ième ligne de la matrice $A$       \n",
    "* `A + B`   somme\n",
    "* `np.matmul(A, B)` ou `A@B` produit\n",
    "* `A * B` produit terme à terme\n",
    "* `np.linalg.det(A)` déterminant de $A$\n",
    "* `np.transpose(A)` transposée de $A$\n",
    "* `np.linalg.inv(A)` inverse de $A$"
   ]
  },
  {
   "cell_type": "markdown",
   "metadata": {},
   "source": [
    "#### Question 3 &mdash; opérations sur les matrices\n",
    "Définir la matrice\n",
    "\\begin{equation}\n",
    "    A = \\begin{pmatrix}\n",
    "      1 & 0 & 3 & 1 \\\\\n",
    "      1 & 2 & 0 & 1 \\\\\n",
    "      0 & 1 & 3 & 0\n",
    "    \\end{pmatrix}.\n",
    "\\end{equation}\n",
    "1. Quelle est la commande donnant les dimensions de la matrice $A$ ?\n",
    "2. Extraire la première ligne, la dernière colonne et l'élément à la deuxième ligne, troisième colonne de $A$.\n",
    "3. À l'aide de fonctions de la librairie numpy, extraire la diagonale, les parties triangulaires supérieures et inférieures de $A$."
   ]
  },
  {
   "cell_type": "code",
   "execution_count": null,
   "metadata": {},
   "outputs": [],
   "source": []
  },
  {
   "cell_type": "markdown",
   "metadata": {},
   "source": [
    "#### Question 4 &mdash; matrices particulières\n",
    "1. En utilisant les fonctions `np.ones` et `np.diag`, définir la matrice identité $10\\times 10$.\n",
    "2. En utilisant ces mêmes fonctions, définir la matrice tridiagonale d'ordre $10$ suivante :\n",
    "\\begin{equation}\n",
    "      C = \\begin{pmatrix}\n",
    "          2 & -1& & \\mathbf{0} \\\\\n",
    "          1 & 2 & \\ddots & \\\\\n",
    "          & \\ddots & \\ddots & -1 \\\\\n",
    "          \\mathbf{0}& & 1 & 2 \\\\\n",
    "        \\end{pmatrix}\n",
    "\\end{equation}"
   ]
  },
  {
   "cell_type": "code",
   "execution_count": null,
   "metadata": {},
   "outputs": [],
   "source": []
  },
  {
   "cell_type": "markdown",
   "metadata": {},
   "source": [
    "### 1.3. Définir et tracer des fonctions\n",
    "#### 1.3.1. Définition de fonctions\n",
    "Considérons par exemple la fonction \n",
    "\\begin{equation}\n",
    "f(x) = \\sin(2\\pi x)+\\cos(\\pi x).\n",
    "\\end{equation}\n",
    "Nous pouvons la définir ainsi en python\n",
    "```\n",
    "def f(x):\n",
    "     return sin(2 * pi * x) + cos(pi * x)\n",
    "```\n",
    "\n",
    "#### 1.3.2. Fonctions échantillonnées (= discrétisées)\n",
    "Pour le calcul numérique, une fonction peut être définie uniquement en des points de discrétisation de la variable $x$. Par exemple\n",
    "\n",
    "```\n",
    "x = np.linspace(0, 1, 11)\n",
    "```\n",
    "correspond à une discrétisation par pas de $0.1=1/(11-1)$, de l'intervalle $[0,1]$, soit 11 valeurs. On définit alors la fonction sur cette grille discrète. Avec l'exemple précédent, il vaut mieux redéfinir\n",
    "```\n",
    "def f(x):\n",
    "     return np.sin(2 * pi * x) + np.cos(pi * x)\n",
    "```\n",
    "et alors il suffit d'écrire\n",
    "```\n",
    "y = f(x)\n",
    "```\n",
    "\n",
    "#### 1.3.3. Tracé de courbes\n",
    "Pour tracer une courbe $y=x^2$ sur l'intervalle $[a,b]$ :\n",
    "```\n",
    "x = np.linspace(a, b, n) # x est échantillonné entre a et b avec un pas de (b-a)/(n-1)\n",
    "z = x * x\n",
    "plt.plot(x, z)\n",
    "```\n",
    "\n",
    "##### Pour varier le trait ou la couleur\n",
    "Par exemple, pour tracer en rouge :\n",
    "```\n",
    "plt.plot(x, z, 'r-')\n",
    "```\n",
    "Dans la chaîne de caractères (troisième argument), on donne une lettre imposant la couleur (`r` pour *red*, `b` pour *blue*, `g` pour *green*...) et un symbole pour le trait (`-` pour un trait continu, `--` pour des tirets, `:` pour des pointillés...). Pour plus de détails, voir la documentation de `matplotlib.lines.Line2D`.\n",
    "\n",
    "##### Pour tracer plusieurs courbes, rajouter un titre, des axes, une légende\n",
    "```\n",
    "x = np.linspace(0, 10, 101)\n",
    "plt.plot(x, np.cos(x), 'r')\n",
    "plt.plot(x, np.sin(x), 'b')\n",
    "plt.title('Graphe des fonctions cos et sin')   # titre\n",
    "plt.legend(['cos', 'sin'])                     # légende\n",
    "plt.xlabel('temps')\n",
    "plt.ylabel('f(t)');                            # noms des axes\n",
    "```\n",
    "\n",
    "##### Pour tracer plusieurs graphes dans une fenêtre\n",
    "La commande `plt.subplot(n, m, p)`, placée avant un tracé de courbe, subdivise la fenêtre du graphe en une matrice $n\\times m$ de sous-fenêtres et sélectionne la $p$-ième pour dessiner le graphe courant&nbsp;: l'élément $(i, j)$ de la matrice correspond au graphe numéro $(i-1)n + j$.\n",
    "\n",
    "##### Pour exporter une figure\n",
    "La commande `plt.savefig('<fichier', format='pdf')`permet de sauver la figure courante au format pdf. D'autres formats sont possibles."
   ]
  },
  {
   "cell_type": "markdown",
   "metadata": {},
   "source": [
    "#### Question 5 &mdash; tracé de fonctions\n",
    "Tracer avec deux couleurs différentes les courbes de la fonction sinus sur l'intervalle $[0,2\\pi]$ pour 6 points de discrétisation et 21 points de discrétisation. \n",
    "Ajouter un titre et une légende."
   ]
  },
  {
   "cell_type": "code",
   "execution_count": null,
   "metadata": {},
   "outputs": [],
   "source": []
  },
  {
   "cell_type": "markdown",
   "metadata": {},
   "source": [
    "## 2. Prise en main de LaTeX"
   ]
  },
  {
   "cell_type": "markdown",
   "metadata": {},
   "source": [
    "Dans un <i>notebook</i>, LaTeX est utilisé pour écrire les formules mathématiques, mais ce langage dépasse de loin cet usage. Il sert pour écrire des documents complets où tout le contenu et le formattage sont codés dans ce langage."
   ]
  },
  {
   "cell_type": "markdown",
   "metadata": {},
   "source": [
    "### 2.1. Généralités sur les fichiers LaTeX\n",
    "Un fichier LaTeX est repérable par son extension `.tex`. Un exemple de fichier LaTeX est donné sur Chamilo dans le dossier [TP d'Analyse](https://chamilo.grenoble-inp.fr/main/document/document.php?cidReq=ENSIMAG3MMAI&id_session=0&gidReq=0&gradebook=0&origin=&id=775120). Un tel fichier est un fichier texte qui est destiné à être compilé pour obtenir le fichier final principal qui est typiquement au format PDF.\n",
    "\n",
    "#### Éditer et compiler un fichier LaTeX\n",
    "1. Pour éditer et modifier ce fichier, il suffit d'utiliser votre éditeur de texte préféré, par exemple :\n",
    "```\n",
    "$ emacs exemple-TP.tex &\n",
    "```\n",
    "2. Pour compiler ce fichier, taper la commande\n",
    "```\n",
    "$ pdflatex exemple-TP.tex\n",
    "```\n",
    "3. Si la compilation s'est exécutée sans erreur, un fichier `exemple-TP.pdf` a été créé, à visualiser par exemple avec\n",
    "```\n",
    "$ evince exemple-TP.pdf &\n",
    "```\n",
    "\n",
    "*N.B. : Il est conseillé de garder active la fenêtre avec le pdf (en insérant un & à la fin de la commande). Après chaque modification puis compilation du fichier tex, le fichier pdf est mis à jour et rafraîchi automatiquement.*\n",
    "\n",
    "Il existe aussi de nombrux éditeurs intégrés pour LaTeX, cf. [https://www.gutenberg.eu.org/Editeurs-pour-La-TeX](https://www.gutenberg.eu.org/Editeurs-pour-La-TeX).\n",
    "\n",
    "#### Structure d'un fichier LaTeX\n",
    "Le langage LaTeX comprend deux types d'éléments (en plus du texte normal)&nbsp;: des commandes et des environnements.\n",
    "\n",
    "Une **commande** est identifiable par le préfixe `\\`, et peut comprendre des paramètres indiqués entre accolades (`{ }`) et des options indiquées entre crochets (`[ ]`).\n",
    "\n",
    "Un **environnement** se déclare à l'aide de deux commandes `\\begin{<...>}` et `\\end{<...>}`. Le contenu compris entre ces deux balises aura une mise en forme, ou comprendra des commandes spécifiques à l'environnement.\n",
    "\n",
    "La première ligne d'un fichier LaTeX est toujours la déclaration de sa classe."
   ]
  },
  {
   "cell_type": "markdown",
   "metadata": {},
   "source": [
    "#### Question 6 &mdash; classe d'un document LaTeX\n",
    "Repérer la classe du fichier `exemple-TP.tex`. Changer cette classe pour `book` et commenter les changements subis par le document."
   ]
  },
  {
   "cell_type": "markdown",
   "metadata": {},
   "source": [
    "<font color='blue'>\n",
    "Votre réponse ici. \n",
    "</font>"
   ]
  },
  {
   "cell_type": "markdown",
   "metadata": {},
   "source": [
    "S'ensuivent, dans un ordre quelconque :\n",
    "* l'import des packages utilisés (encodage du document, langue, environnements spécifiques...),\n",
    "* la définition personnalisée de commandes, d'environnements,\n",
    "* des informations relatives au document : date, auteur, titre.\n",
    "\n",
    "Tous ces éléments donnent des informations importantes pour la compilation du fichier, mais ne vont rien afficher directement sur le document pdf généré.\n",
    "\n",
    "#### Contenu du document\n",
    "C'est au sein de l'environnement `document` que se trouve le contenu du document final. Dans cet environnement, en plus du texte classique, on peut intégrer (entre autres) des commandes spécifiant&nbsp;:\n",
    "* la structure de document (sections),\n",
    "* l'organisation et la mise en forme du texte,\n",
    "* l'affichage et le référencement de figures (contenant par exemple des images, ou des tableaux),\n",
    "* du contenu spécialisé (par exemple mathématiques, chimie ou encore musique).\n",
    "\n",
    "Certaines commandes permettent aussi de générer automatiquement un titre, une table des matières, ou une page de références bibliographiques.\n",
    "\n",
    "#### Mise en page\n",
    "La mise en page du fichier se fait de manière automatique. En particulier, les sections que vous aurez indiquées seront automatiquement numérotées, de même que les figures, les équations et théorèmes. Le placement des figures est aussi décidé par LaTeX, ce qui peut donner parfois des résultats inattendus. Deux solutions pour remédier à une figure (ou un tableau) éloignée du texte qui lui fait référence&nbsp;:\n",
    "* ajouter l'option `[h]` ou `[h!]` à la commande `\\begin{figure}` pour forcer la position de la figure par rapport au texte,\n",
    "* laisser la figure se placer à un endroit différent du document, et ajouter une référence que l'on pourra citer dans le texte. Pour cela, il faut utiliser la commande `\\label` dans l'environnement `figure`, pour associer une clé à votre figure. Dans votre texte, vous pouvez faire référence à cette figure en utilisant la commande `\\ref` suivie de la clé que vous lui aurez attribué. Ceci fonctionne aussi pour tout ce qui est numéroté dans la structure générale du document&nbsp;: sections, équations, théorèmes..."
   ]
  },
  {
   "cell_type": "markdown",
   "metadata": {},
   "source": [
    "#### Question 7 &mdash; inclure une image\n",
    "Inclure la figure de la question 5 dans le document .tex. Pour cela, on utilisera la commande `\\includegraphics` dans l'environnement `figure`. "
   ]
  },
  {
   "cell_type": "markdown",
   "metadata": {},
   "source": [
    "### 2.2. Écrire des mathématiques (et utiliser dans un <i>notebook</i>)\n",
    "\n",
    "Il existe deux principales manières d'inclure du contenu mathématique dans un document LaTeX&nbsp;: au milieu de texte, en encadrant le contenu mathématique par des balises $, ou alors sur une ligne séparée avec l'environnement `equation` ou `align` pour le multiligne. \n",
    "\n",
    "Vous trouverez les exemples de commandes utiles pour ce TP en éditant les cellules de texte. Pour en savoir plus, vous pouvez aussi consulter le manuel présent sur Chamilo. "
   ]
  },
  {
   "cell_type": "markdown",
   "metadata": {},
   "source": [
    "## 3. Travaux pratiques"
   ]
  },
  {
   "cell_type": "markdown",
   "metadata": {},
   "source": [
    "### 3.1. Sensibilisation à l'arithmétique machine\n",
    "Python, comme la plupart des langages de calcul scientifique, utilise la norme IEEE-754 pour le stockage des nombres en mémoire. Sans rentrer dans les détails, un nombre réel est représenté par un nombre flottant\n",
    "\\begin{equation}\n",
    "  x = 0.b_1b_2 \\dots b_m\\ 2^e.\n",
    "\\end{equation}\n",
    "La partie $0.b_1b_2\\dots b_m$ s'appelle la mantisse, $e$ est l'exposant. Comme la mantisse n'a qu'un nombre $m$ fixé de chiffres significatifs, Python ne pourra pas distinguer 2 réels en deçà de cette précision. À titre indicatif, en Python la mantisse est codée sur 52 bits,\n",
    "l'exposant sur 11 bits et le signe sur 1, ce qui fait qu'un réel occupe 64 bits (8 octets) en mémoire.\n",
    "\n",
    "On ne peut donc pas calculer un nombre avec une précision arbitraire. La constante `eps` est la distance entre le nombre 1 et le flottant machine qui lui est immédiatement supérieur&nbsp;: on l'appelle le zéro machine. Il vaut $2^{-52} \\approx 2.22*10^{-16}$. Pour mieux comprendre, essayez les commandes suivantes&nbsp;:"
   ]
  },
  {
   "cell_type": "code",
   "execution_count": 4,
   "metadata": {},
   "outputs": [
    {
     "name": "stdout",
     "output_type": "stream",
     "text": [
      "2.220446049250313e-16\n",
      "1.5000000000000002\n"
     ]
    }
   ],
   "source": [
    "print(np.finfo(float).eps)\n",
    "print(1 + 0.5 + np.finfo(float).eps)"
   ]
  },
  {
   "cell_type": "markdown",
   "metadata": {},
   "source": [
    "#### Exercice 1\n",
    "Exécuter les commandes suivantes. Expliquer et commenter les résultats."
   ]
  },
  {
   "cell_type": "code",
   "execution_count": 5,
   "metadata": {},
   "outputs": [
    {
     "name": "stdout",
     "output_type": "stream",
     "text": [
      "0.0\n",
      "1.0\n"
     ]
    }
   ],
   "source": [
    "x = 1e30\n",
    "y = 1e-8\n",
    "z = ((y + x) - x) / y\n",
    "w = (y + (x - x)) / y\n",
    "print(z)\n",
    "print(w)"
   ]
  },
  {
   "cell_type": "markdown",
   "metadata": {},
   "source": [
    "<font color='blue'>\n",
    "Votre réponse ici. \n",
    "</font>"
   ]
  },
  {
   "cell_type": "markdown",
   "metadata": {},
   "source": [
    "#### Exercice 2\n",
    "On considère la fonction $f$ définie de la manière suivante&nbsp;: pour $x \\in [0,4]$, on calcule\n",
    "* $y = \\sqrt{\\sqrt{\\sqrt {\\dots{\\sqrt{ x}}}}}$ (128 fois),\n",
    "* puis $f(x) = ((\\dots((y^2)^2)^2\\dots)^2)^2$ (128 fois).\n",
    "\n",
    "Tracer la courbe de $f$ en fonction de $x$. Que constatez-vous&nbsp;? Expliquer le résultat."
   ]
  },
  {
   "cell_type": "code",
   "execution_count": null,
   "metadata": {},
   "outputs": [],
   "source": []
  },
  {
   "cell_type": "markdown",
   "metadata": {},
   "source": [
    "<font color='blue'>\n",
    "Votre réponse ici. \n",
    "</font>"
   ]
  },
  {
   "cell_type": "markdown",
   "metadata": {},
   "source": [
    "### 3.2. Calcul théorique et pratique d'une intégrale\n",
    "On cherche à calculer de différentes façons la valeur de l'intégrale\n",
    "\\begin{equation}\n",
    "    I_{20} = \\int_0^1 x^{20} e^x dx,\n",
    "\\end{equation}\n",
    "et notamment à comparer la précision et la complexité associées aux différentes méthodes.\n",
    "#### Calcul par récurrence"
   ]
  },
  {
   "cell_type": "markdown",
   "metadata": {},
   "source": [
    "#### Exercice 3\n",
    "1. Démontrer une formule de récurrence pour calculer les intégrales\n",
    "\\begin{equation}\n",
    "    I_j = \\int_0^1 x^j e^x dx.\n",
    "\\end{equation}"
   ]
  },
  {
   "cell_type": "markdown",
   "metadata": {},
   "source": [
    "<font color='blue'>\n",
    "Votre réponse ici. \n",
    "</font>"
   ]
  },
  {
   "cell_type": "markdown",
   "metadata": {},
   "source": [
    "2. Évaluer numériquement $I_{20}$ à partir de $I_0$. Commenter."
   ]
  },
  {
   "cell_type": "code",
   "execution_count": null,
   "metadata": {},
   "outputs": [],
   "source": []
  },
  {
   "cell_type": "markdown",
   "metadata": {},
   "source": [
    "<font color='blue'>\n",
    "Votre réponse ici. \n",
    "</font>"
   ]
  },
  {
   "cell_type": "markdown",
   "metadata": {},
   "source": [
    "#### Expression sous forme de série\n",
    "#### Exercice 4\n",
    "1. Calculer $I_{20}$ sous forme de série en utilisant le développement en série de $e^x$."
   ]
  },
  {
   "cell_type": "markdown",
   "metadata": {},
   "source": [
    "<font color='blue'>\n",
    "Votre réponse ici. \n",
    "</font>"
   ]
  },
  {
   "cell_type": "markdown",
   "metadata": {},
   "source": [
    "2. Utiliser cette forme pour le calcul numérique de $I_{20}$. Commenter."
   ]
  },
  {
   "cell_type": "code",
   "execution_count": null,
   "metadata": {},
   "outputs": [],
   "source": []
  },
  {
   "cell_type": "markdown",
   "metadata": {},
   "source": [
    "<font color='blue'>\n",
    "Votre réponse ici. \n",
    "</font>"
   ]
  },
  {
   "cell_type": "markdown",
   "metadata": {},
   "source": [
    "#### Méthode de quadrature\n",
    "#### Exercice 5\n",
    "1. Donner une formule pour l'approximation de $I_{20}$ en utilisant la méthode des rectangles. "
   ]
  },
  {
   "cell_type": "markdown",
   "metadata": {},
   "source": [
    "<font color='blue'>\n",
    "Votre réponse ici. \n",
    "</font>"
   ]
  },
  {
   "cell_type": "markdown",
   "metadata": {},
   "source": [
    "2. Écrire une fonction `rectangle(n)` qui calcule $I_{20}$ en utilisant $n$ points. Commenter."
   ]
  },
  {
   "cell_type": "code",
   "execution_count": null,
   "metadata": {},
   "outputs": [],
   "source": []
  },
  {
   "cell_type": "markdown",
   "metadata": {},
   "source": [
    "<font color='blue'>\n",
    "Votre réponse ici. \n",
    "</font>"
   ]
  },
  {
   "cell_type": "markdown",
   "metadata": {},
   "source": [
    "### 3.3. Étude du phénomène de Gibbs\n",
    "Le phénomène de Gibbs est un phénomène oscillatoire qui s'observe graphiquement quand on approche une fonction par sa série de Fourier. L'exercice qui suit vous fait d'abord calculer la série de Fourier d'une fonction \"simple\", puis tracer cette série tronquée aux premiers termes.\n",
    "\n",
    "**Rappel sur les séries de Fourier**\n",
    "Soit $f:\\mathbb{R}\\mapsto\\mathbb{C}$ une fonction $T$ périodique, la série de Fourier de $f$ s'écrit comme une combinaison linéaire de fonctions sinusoïdales :\n",
    "\\begin{equation}\n",
    "\tf(t) = \\sum_{n=-\\infty}^\\infty c_n(f) \\exp\\left(2i\\pi\\frac{n}{T}t\\right),\n",
    "\\end{equation}\n",
    "où les coefficients $c_n(f)$ de $f$ sont appelés *coefficients de Fourier*\n",
    "et sont définis comme suit :\n",
    "\\begin{equation}\n",
    "\tc_n(f) = \\frac1T \\int_{-T/2}^{T/2} f(t) \\exp\\left(-2i\\pi\\frac{n}{T}t\\right) dt.\n",
    "\\end{equation}\n",
    "Dans le cas de fonctions $f:\\mathbb{R}\\mapsto\\mathbb{R}$, quelques simplifications\n",
    "peuvent être faites, la série de Fourier peut s'écrire comme suit&nbsp;:\n",
    "\\begin{equation}\n",
    "\tf(t) = a_0(f) + \\sum_{n=1}^\\infty a_n(f) \\cos\\left(2\\pi\\frac{n}{T}t\\right) \n",
    "    + b_n(f) \\sin\\left(2\\pi\\frac{n}{T}t\\right),\n",
    "\\end{equation}\n",
    "où les coefficients $a_n(f)$ et $b_n(f)$, sont définis par\n",
    "\\begin{equation}\n",
    "\t\\left\\{\n",
    "    \\begin{aligned}\n",
    "\t\ta_0(f) & = \\frac1T \\int_{-T/2}^{T/2} f(t) dt, \\\\\n",
    "\t\ta_n(f) & = \\frac2T \\int_{-T/2}^{T/2} f(t) \\cos\\left(2\\pi\\frac{n}{T}t\\right) dt, \\\\\n",
    "\t\tb_n(f) & = \\frac2T \\int_{-T/2}^{T/2} f(t) \\sin\\left(2\\pi\\frac{n}{T}t\\right) dt.\n",
    "\t\\end{aligned}\n",
    "    \\right.\n",
    "\\end{equation}\n"
   ]
  },
  {
   "cell_type": "markdown",
   "metadata": {},
   "source": [
    "#### Exercice 6 *(théorique)*\n",
    "Soit la fonction 1-périodique $f$, définie sur $[-\\frac12, \\frac12[$ par\n",
    "\\begin{equation}\n",
    "    f(x) = \\begin{cases} \n",
    "    -1 & \\text{pour } -\\frac12 \\leq x \\leq 0, \\\\\n",
    "    1 & \\text{pour } 0 < x < \\frac12.\n",
    "    \\end{cases}\n",
    "\\end{equation}\n",
    "Calculer la série de Fourier de $f$ et expliquer en quels points $x$ la formule ci-dessous est valide :\n",
    "\\begin{equation}\n",
    "    f(x) = \\frac4\\pi \\sum_{n=0}^{+\\infty} \\frac{\\sin(2(2n+1)\\pi x)}{2n+1}.\n",
    "\\end{equation}"
   ]
  },
  {
   "cell_type": "markdown",
   "metadata": {},
   "source": [
    "<font color='blue'>\n",
    "Votre réponse ici.   \n",
    "</font>"
   ]
  },
  {
   "cell_type": "markdown",
   "metadata": {},
   "source": [
    "#### Exercice 7 *(pratique)*\n",
    "1. Écrire un code traçant la série de Fourier tronquée de la fonction $f$."
   ]
  },
  {
   "cell_type": "code",
   "execution_count": 6,
   "metadata": {},
   "outputs": [
    {
     "ename": "SyntaxError",
     "evalue": "unexpected EOF while parsing (<ipython-input-6-b8413568e738>, line 2)",
     "output_type": "error",
     "traceback": [
      "\u001b[0;36m  File \u001b[0;32m\"<ipython-input-6-b8413568e738>\"\u001b[0;36m, line \u001b[0;32m2\u001b[0m\n\u001b[0;31m    # compléter\u001b[0m\n\u001b[0m               ^\u001b[0m\n\u001b[0;31mSyntaxError\u001b[0m\u001b[0;31m:\u001b[0m unexpected EOF while parsing\n"
     ]
    }
   ],
   "source": [
    "def traceserie(Ntermes):  \n",
    "    # compléter"
   ]
  },
  {
   "cell_type": "markdown",
   "metadata": {},
   "source": [
    "2. Quel phénomène observez-vous sur le graphe&nbsp;? \n",
    "Comment varie-t-il avec `Ntermes`&nbsp;? \n",
    "Que pouvez-vous en conclure sur la convergence de la série de Fourier&nbsp;?"
   ]
  },
  {
   "cell_type": "markdown",
   "metadata": {},
   "source": [
    "<font color='blue'>\n",
    "Votre réponse ici. \n",
    "</font>"
   ]
  },
  {
   "cell_type": "markdown",
   "metadata": {},
   "source": [
    "### 3.4. Théorème de Gerschgörin\n",
    "**(petit) Rappel sur les valeurs propres et les vecteurs propres**\n",
    "Soit $A$ une matrice, les valeurs propres $\\lambda$ et les vecteurs propres $v$ de $A$ respectent l'égalité\n",
    "\\begin{equation}\n",
    "(A-\\lambda I)v = 0,\n",
    "\\end{equation}\n",
    "où $I$ est la matrice identité."
   ]
  },
  {
   "cell_type": "markdown",
   "metadata": {},
   "source": [
    "#### Exercice 8 \n",
    "Dans cet exercice, nous nous intéressons au problème suivant. \n",
    "\n",
    "Soit $A$ une matrice carré d'ordre $N$. Les valeurs propres de $A$ appartiennent à l'union des $N$ disques $D_k$ du plan complexe, soit $\\lambda \\in \\bigcup\\limits_{k=1}^N D_k$, où $D_k$, appelé disque de Gerschgörin est défini par \n",
    "\\begin{equation}\n",
    "    D_k = \\left\\{z\\in\\mathbb{C}:|z-a_{kk}|\\leq\\Lambda_k = \\sum_{j=1,j\\neq k}^N |a_{kj}|\\right\\}.\n",
    "\\end{equation}"
   ]
  },
  {
   "cell_type": "markdown",
   "metadata": {},
   "source": [
    "1. Démontrer ce théorème."
   ]
  },
  {
   "cell_type": "markdown",
   "metadata": {},
   "source": [
    "<font color='blue'>\n",
    "Votre réponse ici. \n",
    "</font>"
   ]
  },
  {
   "cell_type": "markdown",
   "metadata": {},
   "source": [
    "2. Écrire une fonction permettant de visualiser les disques de Gerschgörin dans le plan complexe."
   ]
  },
  {
   "cell_type": "code",
   "execution_count": null,
   "metadata": {},
   "outputs": [],
   "source": [
    "def disques(A): \n",
    "    # compléter"
   ]
  },
  {
   "cell_type": "markdown",
   "metadata": {},
   "source": [
    "3. Vérifier graphiquement que les valeurs propres de la matrice\n",
    "\\begin{equation}\n",
    "    A = \\begin{pmatrix}\n",
    "    1+i & i & 2 \\\\ 3 & 2+i & 1 \\\\ 1 & i & 6\n",
    "    \\end{pmatrix}\n",
    "\\end{equation}\n",
    "sont toutes dans l'union de ses disques de Gerschgörin."
   ]
  },
  {
   "cell_type": "code",
   "execution_count": null,
   "metadata": {},
   "outputs": [],
   "source": []
  },
  {
   "cell_type": "markdown",
   "metadata": {},
   "source": [
    "<font color='blue'>\n",
    "Votre réponse ici.  \n",
    "</font>"
   ]
  },
  {
   "cell_type": "markdown",
   "metadata": {},
   "source": [
    "4. On appelle matrice à diagonale strictement dominante, une matrice telle que\n",
    "\\begin{equation}\n",
    "    \\forall k\\ \\sum_{j\\neq k} |a_{kj}| < |a_{kk}|.\n",
    "\\end{equation}\n",
    "Démontrer en utilisant les disques de Gerschgörig que toute matrice à diagonale strictement dominante est inversible."
   ]
  },
  {
   "cell_type": "markdown",
   "metadata": {},
   "source": [
    "<font color='blue'>\n",
    "Votre réponse ici. \n",
    "</font>"
   ]
  }
 ],
 "metadata": {
  "kernelspec": {
   "display_name": "Python 3",
   "language": "python",
   "name": "python3"
  },
  "language_info": {
   "codemirror_mode": {
    "name": "ipython",
    "version": 3
   },
   "file_extension": ".py",
   "mimetype": "text/x-python",
   "name": "python",
   "nbconvert_exporter": "python",
   "pygments_lexer": "ipython3",
   "version": "3.7.6"
  }
 },
 "nbformat": 4,
 "nbformat_minor": 2
}
