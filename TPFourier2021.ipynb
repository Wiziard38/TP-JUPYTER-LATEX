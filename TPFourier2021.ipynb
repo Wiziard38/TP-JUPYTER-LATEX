{
 "cells": [
  {
   "cell_type": "markdown",
   "metadata": {},
   "source": [
    "# Mini-stage d'analyse pour l'ingénieur\n",
    "\n",
    "**Brigitte Bidegaray-Fesquet, Anastasia Konik, Hubert Leterme, Léopold Trémant**\n",
    "\n",
    "<font color=\"red\">Tous les documents pour ce TP sont disponibles dans le dossier [TP Jupyter LaTeX](https://chamilo.grenoble-inp.fr/main/document/document.php?cidReq=ENSIMAG3MMAI&id_session=0&gidReq=0&gradebook=0&origin=&id=775120) sur Chamilo.</font>\n",
    "\n",
    "### Le but de ce mini-stage est\n",
    "\n",
    "* de faire connaissance avec certaines librairies **python** permettant le calcul numérique ;\n",
    "* de faire connaissance avec l'écriture de formules en **LaTeX**, outil de traitement de texte utilisé par les scientifiques ;\n",
    "* de s'exercer au **compte-rendu de TP** ;\n",
    "* de présenter ce TP dans un *notebook* permettant de présenter conjointement les calculs et la démarche suivie, et permettant la reproductibilité de vos résultats.\n",
    "\n",
    "La partie 1 de ce sujet vous propose une introduction rapide au *notebook*. Prenez le temps de parcourir l'aide.\n",
    "    \n",
    "La partie 2 présente quelques librairies python pour les mathématiques avec une application aux sinusoïdes. Prenez le temps de répondre aux questions sur la représentation des vecteurs et des matrices. \n",
    "    \n",
    "La partie 3 introduit les séries de Fourier et vous permettra dans l'écriture des réponses de vous familiariser avec l'écriture des équations en LaTeX. Des exemples vous sont donnés en éditant les zones <i>markdown</i> de ce sujet. C'est le cœur du sujet avec les propriétés des séries de Fourier et leur illustration numérique sur un exemple.\n",
    "    \n",
    "Enfin la dernière partie est plus libre et vous donne quelques pistes d'exploration autour du sujet.\n",
    "\n",
    "La notation prendra en compte la qualité de la programmation du point de vue de l'utilisation du langage python et de l'algorithmique, et de la qualité de la rédaction tant en ce qui concerne la présentation en LaTeX que le contenu scientifique.\n",
    "\n",
    "### Consignes pour le rendu \n",
    "\n",
    "* Travailler en binôme et déclarer ces binômes sur Teide. \n",
    "Les deux membres du binôme doivent être dans le même groupe de TP.\n",
    "* Modifier le présent *notebook* en rédigeant les réponses dans les cellules prédéfinies.\n",
    "* Renommer ce *notebook* &lt;NomBinome1-NomBinome2&gt;.ipynb et le déposer sur Teide.\n",
    "* Le *notebook* doit s'exécuter parfaitement et présenter l'analyse des résultats obtenus (et non leur paraphrase puisque les résultats sont déjà visibles dans le *notebook*) et des commentaires éventuels permettant la compréhension des choix algorithmiques effectués ou des difficultés rencontrées. \n",
    "Le compte-rendu doit néanmoins rester relativement concis.\n",
    "* Relisez-vous, soignez la présentation des figures et des formules mathématiques.\n",
    "\n",
    "<h3 align=center><font color=\"red\">Date limite de rendu : 19 novembre 2021 à 23h59</font></h3>\n",
    "\n",
    "Bon courage à tous, et <u>n'hésitez pas à faire appel aux encadrants</u> aussi souvent que nécessaire !"
   ]
  },
  {
   "cell_type": "markdown",
   "metadata": {},
   "source": [
    "## 1. Travailler dans un *notebook*\n",
    "\n",
    "Si vous lisez ce texte, c'est que vous êtes arrivés à ouvrir le *notebook*. Bravo !\n",
    "\n",
    "L'utilisation d'un *notebook* permet de réunir en un même lieu, la description du problème à résoudre et des méthodes utilisées, le code correspondant, les sorties du code et en particulier ici des graphiques, et l'analyse des résultats obtenus. C'est un des outils pour permettre la reproductibilité de résultats. \n",
    "\n",
    "### 1.1. Types de cellules\n",
    "\n",
    "Il est constitué d'une succession de cellules notamment\n",
    "* **des cellules de texte** (`Markdown`) dont le formattage est un mélande de *markdown*, d'HTML et de LaTeX. Il suffit de double-cliquer sur une telle cellule pour voir comment elle est rédigée. `Maj`-`Entrée` permet d'interpréter le contenu de la cellule.\n",
    "* **des cellules de code**, dans lesquelles ont rédige le code. Leur exécution peut afficher des résultats ou des courbes.\n",
    "\n",
    "### 1.2.  Formattage du texte\n",
    "\n",
    "N'hésitez pas à imiter ! Par exemple, dans cette cellule, vous pouvez voir comment coder en *markdown* \n",
    "* un titre (de niveau 2 et 3),\n",
    "* du texte en italique,\n",
    "* du texte en gras,\n",
    "* des commandes,\n",
    "* une liste.\n",
    "\n",
    "Dans la cellule au dessus, le changement de couleur de texte résulte de l'utilisation de commandes HTML (`<font color=red>...</font>`).\n",
    "\n",
    "LaTeX (prononcer latek...) est utilisé pour écrire les formules mathématiques, mais ce langage dépasse de loin cet usage. Il sert pour écrire des documents complets où tout le contenu et le formattage sont codés dans ce langage. Vous trouverez plus d'informations sur Chamilo. Vous trouverez également plus loin des exemples d'utilisation, dans la présentation des séries de Fourier. \n",
    "\n",
    "Pour un joli rendu, toutes les formules, même constituées d'un symbole unique, doivent être en LaTeX.\n",
    "Les formules *en ligne* doivent être encadrées par des dollars (`$formule$`). Il y a plusieurs façons de disposer des formules sur une ligne à part, ici nous utilisons `\\begin{equation}une ligne de formule\\end{equation}` pour une seule ligne et `\\begin{align}plusieurs lignes de formule\\end{align}` pour aligner plusieurs lignes séparées par `\\\\`.\n",
    "\n",
    "\n",
    "### 1.3. L'aide\n",
    "\n",
    "Dans l'onglet `Help`, vous y trouverez notamment de l'aide sur\n",
    "* le fonctionnement d'un notebook,\n",
    "* le langage markdown,\n",
    "* quelques librairies python.\n",
    "\n",
    "Vous pouvez également accéder à la documentation de python en tapant `help()`.\n",
    "Laissez-vous guider. Essayez les recherches suivantes.\n",
    "* `print`\n",
    "* `symbols`\n",
    "\n",
    "N'oubliez pas de faire `quit` à la fin..."
   ]
  },
  {
   "cell_type": "code",
   "execution_count": 245,
   "metadata": {},
   "outputs": [],
   "source": [
    "# help()"
   ]
  },
  {
   "cell_type": "markdown",
   "metadata": {},
   "source": [
    "Vous pouvez aussi directement demander l'aide d'une fonction particulière."
   ]
  },
  {
   "cell_type": "code",
   "execution_count": 246,
   "metadata": {},
   "outputs": [
    {
     "name": "stdout",
     "output_type": "stream",
     "text": [
      "Help on built-in function print in module builtins:\n",
      "\n",
      "print(...)\n",
      "    print(value, ..., sep=' ', end='\\n', file=sys.stdout, flush=False)\n",
      "    \n",
      "    Prints the values to a stream, or to sys.stdout by default.\n",
      "    Optional keyword arguments:\n",
      "    file:  a file-like object (stream); defaults to the current sys.stdout.\n",
      "    sep:   string inserted between values, default a space.\n",
      "    end:   string appended after the last value, default a newline.\n",
      "    flush: whether to forcibly flush the stream.\n",
      "\n"
     ]
    }
   ],
   "source": [
    "help(print)"
   ]
  },
  {
   "cell_type": "markdown",
   "metadata": {},
   "source": [
    "## 2. Signaux sinusoïdaux purs &mdash; premiers pas en python\n",
    "\n",
    "L'analyse de Fourier est basée sur la représentation à l'aide de signaux sinusoïdaux purs. Un signal pur de fréquence $\\lambda$ s'écrit\n",
    "\\begin{equation}\n",
    "t \\mapsto \\sin(2\\pi\\lambda t).\n",
    "\\end{equation}\n",
    "En guise d'échauffement en python, nous allons voir comment les calculer numériquement et les représenter graphiquement. \n",
    "\n",
    "### 2.1. Librairies python utiles\n",
    "\n",
    "Pour le présent TP, nous aurons besoin d'un certain nombre de librairies pour les mathématiques.\n",
    "* la commande `%matplotlib inline` permet d'effectuer les graphismes en ligne dans le *notebook*,\n",
    "* `matplotlib.pyplot` contient les fonctions pour tracer les courbes,\n",
    "* `numpy` contient les fonctions pour le travail sur les tableaux et les matrices,\n",
    "* `math` contient les fonctions mathématiques usuelles.\n",
    "\n",
    "À noter que les fonctions de base ont aussi des versions qui s'appliquent à des vecteurs terme-à-terme dans la librairie `numpy`. Pour savoir exactement ce que l'on utilise, on a intérêt à expliciter les librairies et à ne pas tout importer avec `*`.\n",
    "\n",
    "Commençons par importer les librairies nécessaires. À noter que ce qui est déjà importé dans un *notebook* n'est pas à ré-importer lors d'utilisations ultérieures. "
   ]
  },
  {
   "cell_type": "code",
   "execution_count": 247,
   "metadata": {},
   "outputs": [],
   "source": [
    "%matplotlib inline\n",
    "import matplotlib.pyplot as plt\n",
    "import numpy as np\n",
    "from math import pi, cos, sin, exp"
   ]
  },
  {
   "cell_type": "markdown",
   "metadata": {},
   "source": [
    "Pour une implémentation numérique des fonctions, nous allons bien sûr devoir nous limiter à leur discrétisation, c'est-à-dire ici à leur représentation par leurs valeurs sur un ensemble discret et fini de points. Ces points ainsi que les valeurs de fonctions en ces points seront donc représentés par des vecteurs.\n",
    "\n",
    "### 2.2. Vecteurs et matrices\n",
    "\n",
    "La façon la plus simple de définir une matrice $n \\times m$ en python est d'entrer au clavier la liste de ses éléments, par exemple\n",
    "\n",
    "```\n",
    "A = np.array([[a11, a12, a13], [a21, a22, a23]])\n",
    "```\n",
    "\n",
    "**Opérations élémentaires**\n",
    "\n",
    "* `A[k, :]` $k$-ième ligne de la matrice $A$       \n",
    "* `A + B` somme\n",
    "* `np.matmul(A, B)` ou `A@B` produit matriciel\n",
    "* `A * B` produit terme à terme\n",
    "* `np.linalg.det(A)` déterminant de $A$\n",
    "* `np.transpose(A)` transposée de $A$\n",
    "* `np.linalg.inv(A)` inverse de $A$\n",
    "\n",
    "En python, la numérotation commence à 0."
   ]
  },
  {
   "cell_type": "markdown",
   "metadata": {},
   "source": [
    "#### <font color=blue>Questions : Testez les opérations sur les matrices</font>\n",
    "\n",
    "Définir la matrice\n",
    "\\begin{equation}\n",
    "    M = \\begin{pmatrix}\n",
    "      1 & 0 & 3 & 1 \\\\\n",
    "      1 & 2 & 0 & 1 \\\\\n",
    "      0 & 1 & 3 & 0 \\\\\n",
    "    \\end{pmatrix}\n",
    "\\end{equation}\n",
    "1. Quelle est la commande donnant les dimensions de la matrice $M$ ?"
   ]
  },
  {
   "cell_type": "code",
   "execution_count": 248,
   "metadata": {},
   "outputs": [
    {
     "name": "stdout",
     "output_type": "stream",
     "text": [
      "La matrice M est :\n",
      "[[1 0 3 1]\n",
      " [1 2 0 1]\n",
      " [0 1 3 0]]\n",
      "Les dimensions de cette matrice sont :  (3, 4)\n"
     ]
    }
   ],
   "source": [
    "# votre code ici\n",
    "matrix = np.array([[1, 0, 3, 1],\n",
    "              [1 ,2, 0, 1],\n",
    "              [0, 1, 3, 0]])\n",
    "\n",
    "print(\"La matrice M est :\"); print(matrix)\n",
    "print(\"Les dimensions de cette matrice sont : \", np.shape(matrix))"
   ]
  },
  {
   "cell_type": "markdown",
   "metadata": {},
   "source": [
    "2. Extraire la première ligne, la dernière colonne et l'élément à la deuxième ligne, troisième colonne de $M$."
   ]
  },
  {
   "cell_type": "code",
   "execution_count": 249,
   "metadata": {},
   "outputs": [
    {
     "name": "stdout",
     "output_type": "stream",
     "text": [
      "La première ligne est :  [1 0 3 1]\n",
      "La dernière colonne est :  [1 1 0]\n",
      "L'élément à la deuxième ligne, troisième colonnne est :  0\n"
     ]
    }
   ],
   "source": [
    "## votre code ici\n",
    "print(\"La première ligne est : \", matrix[0])\n",
    "print(\"La dernière colonne est : \", matrix[:, -1])\n",
    "print(\"L'élément à la deuxième ligne, troisième colonnne est : \", matrix[1, 2])"
   ]
  },
  {
   "cell_type": "markdown",
   "metadata": {},
   "source": [
    "3. À l'aide de fonctions de la librairie numpy, extraire la diagonale, les parties triangulaires supérieures et inférieures de $M$."
   ]
  },
  {
   "cell_type": "code",
   "execution_count": 250,
   "metadata": {},
   "outputs": [
    {
     "name": "stdout",
     "output_type": "stream",
     "text": [
      "La diagonale de la matrice est :  [1 2 3]\n",
      "La matrice triangulaire supérieure associée est : \n",
      "[[1 0 3 1]\n",
      " [0 2 0 1]\n",
      " [0 0 3 0]]\n",
      "La matrice triangulaire inférieure associée est : \n",
      "[[1 0 0 0]\n",
      " [1 2 0 0]\n",
      " [0 1 3 0]]\n"
     ]
    }
   ],
   "source": [
    "## votre code ici\n",
    "print(\"La diagonale de la matrice est : \", np.diagonal(matrix))\n",
    "print(\"La matrice triangulaire supérieure associée est : \"); print(np.triu(matrix))\n",
    "print(\"La matrice triangulaire inférieure associée est : \"); print(np.tril(matrix))"
   ]
  },
  {
   "cell_type": "markdown",
   "metadata": {},
   "source": [
    "4. En utilisant les fonctions `np.ones` et `np.diag`, définir la matrice identité $10\\times 10$.\n"
   ]
  },
  {
   "cell_type": "code",
   "execution_count": 251,
   "metadata": {},
   "outputs": [
    {
     "name": "stdout",
     "output_type": "stream",
     "text": [
      "La matrice identité de taille 10 est : \n",
      "[[1. 0. 0. 0. 0. 0. 0. 0. 0. 0.]\n",
      " [0. 1. 0. 0. 0. 0. 0. 0. 0. 0.]\n",
      " [0. 0. 1. 0. 0. 0. 0. 0. 0. 0.]\n",
      " [0. 0. 0. 1. 0. 0. 0. 0. 0. 0.]\n",
      " [0. 0. 0. 0. 1. 0. 0. 0. 0. 0.]\n",
      " [0. 0. 0. 0. 0. 1. 0. 0. 0. 0.]\n",
      " [0. 0. 0. 0. 0. 0. 1. 0. 0. 0.]\n",
      " [0. 0. 0. 0. 0. 0. 0. 1. 0. 0.]\n",
      " [0. 0. 0. 0. 0. 0. 0. 0. 1. 0.]\n",
      " [0. 0. 0. 0. 0. 0. 0. 0. 0. 1.]]\n"
     ]
    }
   ],
   "source": [
    "## votre code ici\n",
    "print(\"La matrice identité de taille 10 est : \"); print(np.diag(np.ones(10)))"
   ]
  },
  {
   "cell_type": "markdown",
   "metadata": {},
   "source": [
    "5. En utilisant ces mêmes fonctions, définir la matrice tridiagonale d'ordre $10$ suivante :\n",
    "\\begin{equation}\n",
    "      C = \\begin{pmatrix}\n",
    "          2 & -1& & \\mathbf{0} \\\\\n",
    "          1 & 2 & \\ddots & \\\\\n",
    "          & \\ddots & \\ddots & -1 \\\\\n",
    "          \\mathbf{0}& & 1 & 2 \\\\\n",
    "        \\end{pmatrix}\n",
    "\\end{equation}"
   ]
  },
  {
   "cell_type": "code",
   "execution_count": 252,
   "metadata": {},
   "outputs": [
    {
     "name": "stdout",
     "output_type": "stream",
     "text": [
      "[[ 2. -1.  0.  0.  0.  0.  0.  0.  0.  0.]\n",
      " [ 1.  2. -1.  0.  0.  0.  0.  0.  0.  0.]\n",
      " [ 0.  1.  2. -1.  0.  0.  0.  0.  0.  0.]\n",
      " [ 0.  0.  1.  2. -1.  0.  0.  0.  0.  0.]\n",
      " [ 0.  0.  0.  1.  2. -1.  0.  0.  0.  0.]\n",
      " [ 0.  0.  0.  0.  1.  2. -1.  0.  0.  0.]\n",
      " [ 0.  0.  0.  0.  0.  1.  2. -1.  0.  0.]\n",
      " [ 0.  0.  0.  0.  0.  0.  1.  2. -1.  0.]\n",
      " [ 0.  0.  0.  0.  0.  0.  0.  1.  2. -1.]\n",
      " [ 0.  0.  0.  0.  0.  0.  0.  0.  1.  2.]]\n"
     ]
    }
   ],
   "source": [
    "## votre code ici\n",
    "print(2*np.diag(np.ones(10)) - np.diag(np.ones(9), 1) + np.diag(np.ones(9), -1))"
   ]
  },
  {
   "cell_type": "markdown",
   "metadata": {},
   "source": [
    "### 2.3. Définir et tracer des fonctions\n",
    "#### 2.3.1. Définition de fonctions\n",
    "\n",
    "Considérons par exemple la fonction \n",
    "\\begin{equation}\n",
    "f(x) = \\sin(2\\pi x)+\\cos(\\pi x).\n",
    "\\end{equation}\n",
    "Nous pouvons la définir ainsi en python\n",
    "```\n",
    "def f(x):\n",
    "     return sin(2 * pi * x) + cos(pi * x)\n",
    "```\n",
    "\n",
    "#### 2.3.2. Fonctions échantillonnées (= discrétisées)\n",
    "\n",
    "Pour le calcul numérique, une fonction peut être définie uniquement en des points de discrétisation de la variable $x$. Par exemple\n",
    "\n",
    "```\n",
    "x = np.linspace(0, 1, 11)\n",
    "```\n",
    "correspond à une discrétisation par pas de $0.1=1/(11-1)$, de l'intervalle $[0,1]$, soit 11 valeurs. On définit alors la fonction sur cette grille discrète. Avec l'exemple précédent, il vaut mieux redéfinir\n",
    "```\n",
    "def f(x):\n",
    "     return np.sin(2 * pi * x) + np.cos(pi * x)\n",
    "```\n",
    "et alors il suffit d'écrire\n",
    "```\n",
    "y = f(x)\n",
    "```\n",
    "\n",
    "#### 2.3.3. Tracé de courbes\n",
    "\n",
    "Pour tracer une courbe $y=x^2$ sur l'intervalle $[a,b]$ :\n",
    "```\n",
    "x = np.linspace(a, b, n) # x est échantillonné entre a et b avec un pas de (b-a)/(n-1)\n",
    "z = x**2\n",
    "plt.plot(x, z)\n",
    "```\n",
    "\n",
    "##### Pour varier le trait ou la couleur\n",
    "\n",
    "Par exemple, pour tracer en rouge :\n",
    "```\n",
    "plt.plot(x, z, 'r-')\n",
    "```\n",
    "Dans la chaîne de caractères (troisième argument), on donne une lettre imposant la couleur (`r` pour *red*, `b` pour *blue*, `g` pour *green*...) et un symbole pour le trait (`-` pour un trait continu (par défaut), `--` pour des tirets, `:` pour des pointillés...). Pour plus de détails, voir la documentation de `matplotlib.lines.Line2D`.\n",
    "\n",
    "##### Pour tracer plusieurs courbes, rajouter un titre, des axes, une légende\n",
    "\n",
    "```\n",
    "x = np.linspace(0, 10, 101)\n",
    "plt.plot(x, np.cos(x), 'r', label='cosinus')\n",
    "plt.plot(x, np.sin(x), 'b', label='sinus')\n",
    "plt.title('Graphe des fonctions cos et sin')   # titre\n",
    "plt.xlabel('temps')\n",
    "plt.ylabel('f(t)');                            # noms des axes\n",
    "plt.legend()                                   # légende\n",
    "```\n",
    "\n",
    "##### Pour tracer plusieurs graphes dans une fenêtre\n",
    "La commande `plt.subplot(n, m, p)`, placée avant un tracé de courbe, subdivise la fenêtre du graphe en une matrice $n\\times m$ de sous-fenêtres et sélectionne la $p$-ième pour dessiner le graphe courant&nbsp;: l'élément $(i, j)$ de la matrice correspond au graphe numéro $(i-1)n + j$.\n",
    "\n",
    "##### Pour exporter une figure\n",
    "La commande `plt.savefig('<fichier', format='pdf')`permet de sauver la figure courante au format pdf. D'autres formats sont possibles."
   ]
  },
  {
   "cell_type": "markdown",
   "metadata": {},
   "source": [
    "#### <font color = blue>Question : Testez le tracé de fonctions</font>\n",
    "\n",
    "Tracer avec deux couleurs différentes les courbes de la fonction sinus sur l'intervalle $[0,2\\pi]$ pour 6 points de discrétisation et 21 points de discrétisation. \n",
    "Ajouter un titre et une légende."
   ]
  },
  {
   "cell_type": "code",
   "execution_count": 253,
   "metadata": {},
   "outputs": [
    {
     "data": {
      "image/png": "[encoded data removed]",
      "text/plain": [
       "<Figure size 432x288 with 1 Axes>"
      ]
     },
     "metadata": {
      "needs_background": "light"
     },
     "output_type": "display_data"
    }
   ],
   "source": [
    "## votre code ici\n",
    "x1 = np.linspace(0, 2*pi, 6)\n",
    "x2 = np.linspace(0, 2*pi, 21)\n",
    "plt.plot(x1, np.sin(x1), 'r', label='6 points')\n",
    "plt.plot(x2, np.sin(x2), 'b', label='21 points')\n",
    "plt.title(\"Tracé de la fonction sinus avec 6 et 21 points\")\n",
    "plt.legend()\n",
    "plt.show()"
   ]
  },
  {
   "cell_type": "markdown",
   "metadata": {},
   "source": [
    "## 3. Les séries de Fourier\n",
    "\n",
    "pour en savoir plus : <br>\n",
    "[Ber14] Maïtine Bergounioux, [*Mathématiques pour le traitement du signal*](https://beluga.univ-grenoble-alpes.fr/permalink/33UGRENOBLE_INST/rgi2mt/alma991003269059706161), 2e édition, Dunod (2014).\n",
    "<br>\n",
    "[Sch01] Michelle Schatzman, [*Analyse numérique : une approche mathématique*](https://beluga.univ-grenoble-alpes.fr/permalink/33UGRENOBLE_INST/1vb34gl/alma991005329019706161), chapitre \"Du côté de chez Fourier\", Dunod (2001).\n",
    "\n",
    "### 3.1. Notations\n",
    "\n",
    "#### Polynômes trigonométriques\n",
    "\n",
    "On appelle $\\mathbb{T}_N$ l'espace vectoriel des polynômes trigonométriques de degré au plus $N$ qui s'écrivent sous la forme \n",
    "\\begin{equation}\n",
    "\\sum_{n=-N}^N c_n \\exp\\left(2i\\pi n\\dfrac tT\\right),\n",
    "\\end{equation}\n",
    "où pour $n\\in\\{-N,\\dots,N\\}$, $c_n$ est un nombre complexe. Ces polynômes trigonométriques sont clairement des fonctions périodiques de période $T$.\n",
    "\n",
    "#### Espaces fonctionnels\n",
    "\n",
    "On note $\\mathcal{C}_{\\rm per}^k$ l'espace des fonctions $k$ fois continûment différentiables, périodiques de période $T$. Un cas particulier est $\\mathcal{C}_{\\rm per}^0$, espace des fonctions continues, pérodiques de période $T$.\n",
    "\n",
    "On note $\\mathcal{L}_{\\rm per}^1$ l'ensemble des fonctions Lebesgue-intégrables sur tout intervalle borné de $\\mathbb{R}$, périodiques de période $T$. On le munit de la norme\n",
    "\\begin{equation}\n",
    "\\|f\\|_1 = \\int_0^{T} |f(t)| dt.\n",
    "\\end{equation}\n",
    "\n",
    "On note $\\mathcal{L}_{\\rm per}^2$ l'ensemble des fonctions de carré Lebesgue-intégrables sur tout intervalle borné de $\\mathbb{R}$ (modulo les fonctions négligeables), périodiques de période $T$. On le munit de la norme\n",
    "\\begin{equation}\n",
    "\\|f\\|_2 = \\left(\\int_0^{T} |f(t)|^2 dt\\right)^{1/2}.\n",
    "\\end{equation}\n",
    "\n",
    "### 3.2. Coefficients de Fourier complexes\n",
    "\n",
    "Etant donné $f\\in\\mathcal{L}_{\\rm per}^1$, on définit le $n$-ième coefficient de Fourier par \n",
    "\\begin{equation}\n",
    "c_n(f) = \\frac 1T \\int_0^T f(t) \\exp\\left(-2i\\pi n\\dfrac tT\\right) dt.\n",
    "\\end{equation}\n",
    "On peut alors construire le polynôme trigonométrique\n",
    "\\begin{equation}\n",
    "S_N(t) = \\sum_{n=-N}^N c_n(f) \\exp\\left(2i\\pi n\\dfrac tT\\right).\n",
    "\\end{equation}\n",
    "\n",
    "Si de plus $f\\in\\mathcal{L}_{\\rm per}^2$, on peut montrer que $S_N$ réalise l'approximation au sens des moindres carrés de $f$ dans $\\mathbb{T}_N$, c'est-à-dire que\n",
    "\\begin{equation}\n",
    "\\forall P\\in\\mathbb{T}_N,\\ \\int_0^T |f-S_N|^2 dt \\leq \\int_0^T |f-P|^2 dt.\n",
    "\\end{equation}"
   ]
  },
  {
   "cell_type": "markdown",
   "metadata": {},
   "source": [
    "**<font color=blue>Question :</font>** \n",
    "Rappeler la formule de quadrature des rectangle à gauche permettant d'approcher l'intégrale $c_n(f)$ avec $J$ points de discrétisation en espace régulièrement espacés. (Cela revient à généraliser la formule vu sur la première feuille de TD pour une intégrale sur $[0,T]$)"
   ]
  },
  {
   "cell_type": "markdown",
   "metadata": {},
   "source": [
    "<font color = blue>Votre réponse ici</font>\n",
    "\\begin{equation}\n",
    "c_n(f) = \\frac 1J \\sum_{k=0}^{J-1} f\\left( \\dfrac {kT}J\\right) \\exp\\left(-2i\\pi n\\dfrac kJ\\right)\n",
    "\\end{equation}"
   ]
  },
  {
   "cell_type": "markdown",
   "metadata": {},
   "source": [
    "**<font color=blue>Question :</font>** \n",
    "Définir une fonction `discreteFourier` qui prend en entrée \n",
    "* la période $T$\n",
    "* les valeurs d'une fonction $f$ discrétisée avec $J$ points sur $[0,T]$ \n",
    "* et le degré du polynôme trigonométrique $N$ \n",
    "\n",
    "et retourne les coefficients de Fourier $c_n(f)$. "
   ]
  },
  {
   "cell_type": "code",
   "execution_count": 388,
   "metadata": {},
   "outputs": [],
   "source": [
    "## votre code ici\n",
    "def coeff_cn(n, liste_points):\n",
    "    J = len(liste_points)\n",
    "    coeff_n = 0\n",
    "    for k in range(J):\n",
    "        tmp = -2 * pi * n * k / J\n",
    "        coeff_n += liste_points[k] * (cos(tmp) + 1j * sin(tmp))\n",
    "    return (coeff_n/J)\n",
    "\n",
    "def discreteFourier(T, liste_points, N):\n",
    "    liste_coeffs = []\n",
    "    for n in range(-N, N+1):\n",
    "        liste_coeffs.append(coeff_cn(n, liste_points))\n",
    "    return liste_coeffs\n"
   ]
  },
  {
   "cell_type": "markdown",
   "metadata": {},
   "source": [
    "**<font color = blue>Question :</font>** \n",
    "Définir une fonction `invFourier` qui prend en entrée \n",
    "* la période $T$\n",
    "* des coefficients de Fourier $c_n$ \n",
    "* et le nombre $J$ de points de discrétisation en espace \n",
    "\n",
    "et retourne la somme partielle $S_N$."
   ]
  },
  {
   "cell_type": "code",
   "execution_count": 389,
   "metadata": {},
   "outputs": [],
   "source": [
    "## votre code ici\n",
    "def invFourier(T, coeffs_c, J):\n",
    "    N = int((len(coeffs_c) - 1) / 2)\n",
    "    somme_partielle = 0\n",
    "    for n in range(-N, N+1):\n",
    "        t = n * T /(J-1)\n",
    "        somme_partielle += coeffs_c[n + N] * (np.cos(-2*pi**n*t/T) + np.sin(-2*pi**n*t/T)*1j)\n",
    "    return somme_partielle\n"
   ]
  },
  {
   "cell_type": "markdown",
   "metadata": {},
   "source": [
    "### 3.3. Un exemple\n",
    "\n",
    "Soient $0<a\\leq T$ et un signal créneau, c'est-à-dire la fonction périodique de période $T$ définie sur $[-T/2,T/2]$ par\n",
    "\\begin{equation}\n",
    "f(t) = \\begin{cases}\n",
    "A & \\text{sur } \\left[-\\dfrac a2,\\dfrac a2\\right], \\\\\n",
    "& \\text{ailleurs.}\n",
    "\\end{cases}\n",
    "\\end{equation}"
   ]
  },
  {
   "cell_type": "markdown",
   "metadata": {},
   "source": [
    "**<font color = blue>Question :</font>** \n",
    "Définir cette fonction comme fonction python qui dépend de $t$, $a$, $T$ et $A$.<br>\n",
    "Tracer cette fonction sur l'intervalle $[-T,T]$, pour les valeurs $T=2$, $a=0,4$, $A=1,5$.\n",
    "(On gardera ces valeurs pour les illustrations numériques qui suivront.)"
   ]
  },
  {
   "cell_type": "code",
   "execution_count": 390,
   "metadata": {},
   "outputs": [
    {
     "data": {
      "image/png": "[encoded data removed]",
      "text/plain": [
       "<Figure size 432x288 with 1 Axes>"
      ]
     },
     "metadata": {
      "needs_background": "light"
     },
     "output_type": "display_data"
    }
   ],
   "source": [
    "## votre code ici\n",
    "def creneau(t, a, T, A):\n",
    "    if (t+a/2)%T <= a:\n",
    "        return A\n",
    "    return 0\n",
    "\n",
    "\n",
    "t = np.linspace(-2, 2, 200)\n",
    "\n",
    "plt.plot(t, [creneau(point, 0.4, 2, 1.5) for point in t], 'b', label='creneau')\n",
    "plt.legend()\n",
    "plt.plot()\n",
    "plt.show()\n"
   ]
  },
  {
   "cell_type": "markdown",
   "metadata": {},
   "source": [
    "**<font color = blue>Question :</font>** \n",
    "Calculer les coefficients de Fourier $c_n(f)$. "
   ]
  },
  {
   "cell_type": "markdown",
   "metadata": {},
   "source": [
    "<font color = blue>Votre réponse ici</font>\n",
    "\n",
    "Pour $ n \\neq 0 $,\n",
    "\\begin{align*}\n",
    "c_n(f) &= \\frac 1T \\int_0^T f(t) \\exp\\left(-2i\\pi n\\dfrac tT\\right) dt \\\\\n",
    "&= \\frac 1T \\int_{-T/2}^{T/2} f(t) \\exp\\left(-2i\\pi n\\dfrac tT\\right) dt \\\\\n",
    "&= \\frac 1T \\int_{-a/2}^{a/2} A \\exp\\left(-2i\\pi n\\dfrac tT\\right) dt \\\\\n",
    "&= \\frac AT \\left[ \\frac {-T}{2i\\pi n} \\exp\\left(-2i\\pi n\\dfrac tT\\right) \\right]_{-a/2}^{a/2} \\\\\n",
    "&= \\frac {Ai}{2\\pi n} \\left( \\exp\\left(\\dfrac{-ai\\pi n}T \\right) - \\exp\\left(\\dfrac{ai\\pi n}T \\right) \\right) \\\\\n",
    "&= \\frac {-A}{\\pi n} \\cdot \\frac{\\left( \\exp\\left(\\dfrac{-ai\\pi n}T \\right) - \\exp\\left(\\dfrac{ai\\pi n}T \\right) \\right)}{2i} \\\\\n",
    "&= \\frac {A}{n\\pi} \\cdot \\sin\\left(\\dfrac{an\\pi}T\\right)\n",
    "\\end{align*}\n",
    "\n",
    "Pour $ n= 0 $,\n",
    "\\begin{align*}\n",
    "c_n(f) &= \\frac 1T \\int_{-a/2}^{a/2} A \\exp\\left(-2i\\pi 0\\dfrac tT\\right) dt \\\\\n",
    "&= \\frac AT \\int_{-a/2}^{a/2} 1 dt \\\\\n",
    "&= \\frac{Aa}{T}\n",
    "\\end{align*}"
   ]
  },
  {
   "cell_type": "markdown",
   "metadata": {},
   "source": [
    "**<font color = blue>Question :</font>** \n",
    "Calculer ces valeurs en utilisant `discreteFourier`.\n",
    "On prendra $J=100$ points de discrétisation.\n",
    "Que pensez-vous de l'approximation ?"
   ]
  },
  {
   "cell_type": "code",
   "execution_count": 399,
   "metadata": {},
   "outputs": [],
   "source": [
    "def coeff_n(n):\n",
    "    a = 0.4\n",
    "    A = 1.5\n",
    "    T = 2\n",
    "    if n == 0:\n",
    "        return A*a/T\n",
    "    return A/n/pi*sin(a*pi*n/T)"
   ]
  },
  {
   "cell_type": "code",
   "execution_count": 408,
   "metadata": {},
   "outputs": [
    {
     "name": "stdout",
     "output_type": "stream",
     "text": [
      "coeff_ -10  :  -0.0000   Valeur vraie : -0.0000 difference = -0.0000\n",
      "coeff_ -9  :  -0.0303   Valeur vraie : -0.0312 difference = 0.0008\n",
      "coeff_ -8  :  -0.0556   Valeur vraie : -0.0568 difference = 0.0012\n",
      "coeff_ -7  :  -0.0638   Valeur vraie : -0.0649 difference = 0.0010\n",
      "coeff_ -6  :  -0.0462   Valeur vraie : -0.0468 difference = 0.0006\n",
      "coeff_ -5  :  -0.0000   Valeur vraie : 0.0000 difference = -0.0000\n",
      "coeff_ -4  :  0.0698   Valeur vraie : 0.0702 difference = -0.0004\n",
      "coeff_ -3  :  0.1509   Valeur vraie : 0.1514 difference = -0.0004\n",
      "coeff_ -2  :  0.2267   Valeur vraie : 0.2270 difference = -0.0003\n",
      "coeff_ -1  :  0.2806   Valeur vraie : 0.2806 difference = -0.0001\n",
      "coeff_ 0  :  0.3000   Valeur vraie : 0.3000 difference = -0.0000\n",
      "coeff_ 1  :  0.2806   Valeur vraie : 0.2806 difference = -0.0001\n",
      "coeff_ 2  :  0.2267   Valeur vraie : 0.2270 difference = -0.0003\n",
      "coeff_ 3  :  0.1509   Valeur vraie : 0.1514 difference = -0.0004\n",
      "coeff_ 4  :  0.0698   Valeur vraie : 0.0702 difference = -0.0004\n",
      "coeff_ 5  :  -0.0000   Valeur vraie : 0.0000 difference = -0.0000\n",
      "coeff_ 6  :  -0.0462   Valeur vraie : -0.0468 difference = 0.0006\n",
      "coeff_ 7  :  -0.0638   Valeur vraie : -0.0649 difference = 0.0010\n",
      "coeff_ 8  :  -0.0556   Valeur vraie : -0.0568 difference = 0.0012\n",
      "coeff_ 9  :  -0.0303   Valeur vraie : -0.0312 difference = 0.0008\n",
      "coeff_ 10  :  -0.0000   Valeur vraie : -0.0000 difference = -0.0000\n"
     ]
    }
   ],
   "source": [
    "## votre code ici\n",
    "N = 10 # Choisi arbitrairement\n",
    "\n",
    "t = np.linspace(0, 2, 100)\n",
    "liste_valeurs = [creneau(point, 0.4, 2, 1.5) for point in t]\n",
    "\n",
    "coeffs = discreteFourier(2, liste_valeurs, N)\n",
    "for n in range(int(2*N+1)):\n",
    "    print(\"coeff_\", n-N, \" : \", f'{coeffs[n].real:.4f}', ' ', f'Valeur vraie : {coeff_n(n-N):.4f}', f'difference = {coeffs[n].real - coeff_n(n-N):.4f}')"
   ]
  },
  {
   "cell_type": "markdown",
   "metadata": {},
   "source": [
    "<font color = blue>Votre commentaire ici </font>\n",
    "\n",
    "On voit que le calcul des coefficients avec *discreteFourier* est approximatif, par exemple les parties imaginaires ne sont pas nulles mais très petites.\n",
    "Cependant, on voit que en calculant toutes les valeurs de $ c_n(f) $ par le calcul, on retrouve les mêmes résultat !\n",
    "\n",
    "La différence entre les deux est très petite\n"
   ]
  },
  {
   "cell_type": "markdown",
   "metadata": {},
   "source": [
    "### 3.4. Coefficients réels\n",
    "\n",
    "Reprenons une fonction $f$ générique.\n",
    "En utilisant les formules d'Euler, on peut réécrire l'expression de $S_N$ sous la forme\n",
    "\\begin{equation}\n",
    "S_N(t) = a_0(f) + \\sum_{n=1}^N \\left(a_n(f) \\cos\\left(2\\pi n \\dfrac tT\\right) + b_n(f) \\sin\\left(2\\pi n \\dfrac tT\\right) \\right).\n",
    "\\end{equation} "
   ]
  },
  {
   "cell_type": "markdown",
   "metadata": {},
   "source": [
    "**<font color = blue>Question :</font>** \n",
    "Calculer les valeurs des $a_n(f)$ et des $b_n(f)$ en fonction des $c_n(f)$."
   ]
  },
  {
   "cell_type": "markdown",
   "metadata": {},
   "source": [
    "<font color = blue>Votre réponse ici</font>\n",
    "\n",
    "On trouve par le calcul que $a_0(f) = c_o(f)$ et $b_0(f) = 0 \\\\ $\n",
    "De plus, on a :\n",
    "$\\forall n > 0, \\\\ a_n(f) = c_n(f) + c_{-n}(f) \\\\ $ \n",
    "et $ b_n(f) = i(c_n(f) - c_{-n}(f)) $"
   ]
  },
  {
   "cell_type": "markdown",
   "metadata": {},
   "source": [
    "On peut également l'écrire\n",
    "\\begin{equation}\n",
    "S_N(t) = A_0(f) + \\sum_{n=1}^N A_n(f) \\cos(2\\pi n \\lambda t + \\varphi_n(f)).\n",
    "\\end{equation} "
   ]
  },
  {
   "cell_type": "markdown",
   "metadata": {},
   "source": [
    "**<font color = blue>Question :</font>** \n",
    "Calculer les valeurs des $A_n(f)$ et des $\\varphi_n(f)$ en fonction des $a_n(f)$ et des $b_n(f)$ d'une part, puis en fonction des $c_n(f)$."
   ]
  },
  {
   "cell_type": "markdown",
   "metadata": {},
   "source": [
    "<font color = blue>Votre réponse ici</font> \n",
    "\n",
    "On trouve directement que $ A_0(f) = a_0(f) \\\\ $\n",
    "Pour tout n, on a :\n",
    "\\begin{align*}\n",
    "A_n(f) \\cos(2\\pi n \\lambda t + \\varphi_n(f)) &= A_n(f) \\cos(2\\pi n \\lambda t)\\cdot \\cos(\\varphi_n(f)) - A_n(f)\\sin(2\\pi n \\lambda t)\\cdot \\sin(\\varphi_n(f)) \\\\\n",
    "&= \\left(a_n(f) \\cos\\left(2\\pi n \\dfrac tT\\right) + b_n(f) \\sin\\left(2\\pi n \\dfrac tT\\right) \\right)\n",
    "\\end{align*}\n",
    "\n",
    "Avec $ \\cos(\\varphi_n(f)) = \\frac {a_n(f)}{A_n(f)} \\quad et \\quad \\sin(\\varphi_n(f)) = - \\frac {b_n(f)}{A_n(f)} \\quad et \\quad A_n(f) = \\sqrt{a_n(f)^2 + b_n(f)^2} $,\n",
    "\\begin{align*}\n",
    "A_n(f) \\cos(2\\pi n \\lambda t + \\varphi_n(f)) &= A_n(f) \\cos(2\\pi n \\lambda t)\\cdot \\frac {a_n(f)}{A_n(f)} - A_n(f)\\sin(2\\pi n \\lambda t)\\cdot - \\frac {b_n(f)}{A_n(f)} \\\\\n",
    "&= a_n(f) \\cos\\left(2\\pi n \\lambda t\\right) + b_n(f) \\sin\\left(2\\pi n \\lambda t\\right) \n",
    "\\end{align*}\n",
    "\n",
    "Alors, en reprenant les expressions de $ a_n(f) $ et $ b_n(f) $ en fonction de $ c_n(f) $, on a :\n",
    "\\begin{align*}\n",
    "A_n(f) \\cos(2\\pi n \\lambda t + \\varphi_n(f)) &= \\left( c_n(f) + c_{-n}(f) \\right) \\cos\\left(2\\pi n \\lambda t\\right) + \\left( c_n(f) - c_{-n}(f) \\right) i \\sin\\left(2\\pi n \\lambda t\\right) \\\\\n",
    "&= c_n(f) \\cdot \\left( \\cos\\left(2\\pi n \\lambda t\\right) + i \\sin\\left(2\\pi n \\lambda t\\right) \\right) + c_{-n}(f) \\cdot \\left( \\cos\\left(2\\pi n \\lambda t\\right) - i \\sin\\left(2\\pi n \\lambda t\\right) \\right) \\\\\n",
    "&= c_n(f) \\cdot exp(2\\pi n \\lambda t) + c_{-n}(f) \\cdot exp(-2\\pi n \\lambda t)\n",
    "\\end{align*}"
   ]
  },
  {
   "cell_type": "markdown",
   "metadata": {},
   "source": [
    "**<font color = blue>Question :</font>** \n",
    "Représenter sur deux graphes côte-à-côte, $|c_n(f)|$ en fonction de $n$ et $\\arg(c_n(f))$ en fonction de $n$ pour la fonction créneau précédemment définie. "
   ]
  },
  {
   "cell_type": "code",
   "execution_count": 407,
   "metadata": {},
   "outputs": [
    {
     "data": {
      "image/png": "[encoded data removed]",
      "text/plain": [
       "<Figure size 432x288 with 2 Axes>"
      ]
     },
     "metadata": {
      "needs_background": "light"
     },
     "output_type": "display_data"
    }
   ],
   "source": [
    "## votre code ici\n",
    "\n",
    "# Avec les résultats précédents :\n",
    "N = 20\n",
    "t = np.linspace(0, 2, 1000)\n",
    "y = [creneau(point, 0.4, 2, 1.5) for point in t]\n",
    "liste_coeffs = discreteFourier(2, y, N)\n",
    "liste_points = np.linspace(-N, N, 2*N+1)\n",
    "\n",
    "def module(z):\n",
    "    return abs(z)\n",
    "\n",
    "def argument(z):\n",
    "    return np.angle(z)\n",
    "\n",
    "fig, [ax1, ax2] = plt.subplots(1, 2)\n",
    "\n",
    "ax1.plot(liste_points, [module(coeff) for coeff in liste_coeffs], 'r', label='Module de c_n')\n",
    "ax2.plot(liste_points, [argument(coeff) for coeff in liste_coeffs], 'b', label='Argument de c_n')\n",
    "plt.legend()\n",
    "plt.show()\n"
   ]
  },
  {
   "cell_type": "markdown",
   "metadata": {},
   "source": [
    "### 3.4. Convergence\n",
    "\n",
    "Tout l'intérêt des séries de Fourier est qu'elles convergent en un certain sens vers la fonction de départ. \n",
    "\n",
    "#### Inégalité de Bessel\n",
    "\n",
    "Soit $f\\in\\mathcal{L}_{\\rm per}^2(0,T)$ alors \n",
    "\\begin{equation}\n",
    "\\sum_{n=-N}^N |c_n|^2 \\leq \\frac1T \\int_0^T |f(t)|^2 dt.\n",
    "\\end{equation}\n",
    "\n",
    "#### Convergence des sommes partielles\n",
    "\n",
    "Par ailleurs la suite $S_N$ des polynômes trigonomériques de meilleure approximation dans $\\mathbb{T}_N$ converge vers $f$ dans $\\mathcal{L}_{\\rm per}^2(0,T)$ :\n",
    "\\begin{equation}\n",
    "\\lim_{N\\to\\infty} \\|f-S_N\\|_2 = 0.  \n",
    "\\end{equation}\n",
    "Cela veut dire que la série $\\sum_n c_n(f)\\exp(2i\\pi n t/T)$ converge normalement et donc presque partout vers $f$.\n",
    "\n",
    "#### Égalité de Parseval\n",
    "\n",
    "Soit $f\\in\\mathcal{L}_{\\rm per}^2(0,T)$ alors \n",
    "\\begin{equation}\n",
    "\\sum_{n=-\\infty}^\\infty |c_n|^2 = \\frac1T \\int_0^T |f(t)|^2 dt.\n",
    "\\end{equation}"
   ]
  },
  {
   "cell_type": "markdown",
   "metadata": {},
   "source": [
    "**<font color = blue>Question :</font>** \n",
    "Illustrer graphiquement l'inégalité de Bessel et l'égalité de Parseval sur l'exemple de la fonction créneau. "
   ]
  },
  {
   "cell_type": "code",
   "execution_count": 259,
   "metadata": {},
   "outputs": [],
   "source": [
    "## votre code ici"
   ]
  },
  {
   "cell_type": "markdown",
   "metadata": {},
   "source": [
    "<font color = blue>Votre commentaire ici</font>"
   ]
  },
  {
   "cell_type": "markdown",
   "metadata": {},
   "source": [
    "#### Théorème de Dirichlet\n",
    "\n",
    "Soit $f\\in\\mathcal{L}_{\\rm per}^1(0,T)$ et $t_0$ tel que $f$ admette une limite à droite et à gauche en $t_0$, respectivement notées $f(t_0^+)$ et $f(t_0^-)$ alors \n",
    "\\begin{equation}\n",
    "\\lim_{N\\to\\infty} \\sum_{n=-N}^N c_n(f)\\exp\\left(2i\\pi n \\dfrac {t_0}T\\right) = \\dfrac{f(t_0^+)+f(t_0^-)}2 \n",
    "\\end{equation}"
   ]
  },
  {
   "cell_type": "markdown",
   "metadata": {},
   "source": [
    "**<font color = blue>Question :</font>**  \n",
    "Toujours avec $N=10$ et $J=100$. Sur un même graphique, tracer la fonction créneau et sa somme de Fourier partielle de degré $N$."
   ]
  },
  {
   "cell_type": "code",
   "execution_count": 260,
   "metadata": {},
   "outputs": [],
   "source": [
    "## votre code ici"
   ]
  },
  {
   "cell_type": "markdown",
   "metadata": {},
   "source": [
    "## 4. Et si on allait plus loin ?"
   ]
  },
  {
   "cell_type": "markdown",
   "metadata": {},
   "source": [
    "Pour la suite, on vous propose trois pistes d'exploration libre.\n",
    "\n",
    "### Faire varier les paramètres de discrétisation\n",
    "\n",
    "Dans tout ce qui précède on avait fixé la valeur du nombre de modes de Fourier $N$ et du nombre de points de discrtéisation en temps $J$. Reprendre les différentes observation ci-dessus et commenter l'impact du choix de ces paramètres numériques sur les résultats.\n",
    "\n",
    "### Faire varier $a$.\n",
    "\n",
    "Le spectre obtenu dans l'exemple donné dépend bien sûr de $a$. Analyser et trouver une représentation graphique de la modification du spectre quand on fait varier $a$ dans sa plage de valeurs admissibles.\n",
    "\n",
    "### Changer la fonction\n",
    "\n",
    "Tester l'approximation par série de Fourier d'autres fonctions que la fonction créneau."
   ]
  },
  {
   "cell_type": "code",
   "execution_count": 261,
   "metadata": {},
   "outputs": [],
   "source": [
    "## votre code ici (créez autant de cellulles que nécessaire)"
   ]
  }
 ],
 "metadata": {
  "kernelspec": {
   "display_name": "Python 3",
   "language": "python",
   "name": "python3"
  },
  "language_info": {
   "codemirror_mode": {
    "name": "ipython",
    "version": 3
   },
   "file_extension": ".py",
   "mimetype": "text/x-python",
   "name": "python",
   "nbconvert_exporter": "python",
   "pygments_lexer": "ipython3",
   "version": "3.9.4"
  }
 },
 "nbformat": 4,
 "nbformat_minor": 4
}
