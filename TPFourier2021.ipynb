{
 "cells": [
  {
   "cell_type": "markdown",
   "metadata": {},
   "source": [
    "# Mini-stage d'analyse pour l'ingénieur\n",
    "\n",
    "**Brigitte Bidegaray-Fesquet, Anastasia Konik, Hubert Leterme, Léopold Trémant**\n",
    "\n",
    "<font color=\"red\">Tous les documents pour ce TP sont disponibles dans le dossier [TP Jupyter LaTeX](https://chamilo.grenoble-inp.fr/main/document/document.php?cidReq=ENSIMAG3MMAI&id_session=0&gidReq=0&gradebook=0&origin=&id=775120) sur Chamilo.</font>\n",
    "\n",
    "### Le but de ce mini-stage est\n",
    "\n",
    "* de faire connaissance avec certaines librairies **python** permettant le calcul numérique ;\n",
    "* de faire connaissance avec l'écriture de formules en **LaTeX**, outil de traitement de texte utilisé par les scientifiques ;\n",
    "* de s'exercer au **compte-rendu de TP** ;\n",
    "* de présenter ce TP dans un *notebook* permettant de présenter conjointement les calculs et la démarche suivie, et permettant la reproductibilité de vos résultats.\n",
    "\n",
    "La partie 1 de ce sujet vous propose une introduction rapide au *notebook*. Prenez le temps de parcourir l'aide.\n",
    "    \n",
    "La partie 2 présente quelques librairies python pour les mathématiques avec une application aux sinusoïdes. Prenez le temps de répondre aux questions sur la représentation des vecteurs et des matrices. \n",
    "    \n",
    "La partie 3 introduit les séries de Fourier et vous permettra dans l'écriture des réponses de vous familiariser avec l'écriture des équations en LaTeX. Des exemples vous sont donnés en éditant les zones <i>markdown</i> de ce sujet. C'est le cœur du sujet avec les propriétés des séries de Fourier et leur illustration numérique sur un exemple.\n",
    "    \n",
    "Enfin la dernière partie est plus libre et vous donne quelques pistes d'exploration autour du sujet.\n",
    "\n",
    "La notation prendra en compte la qualité de la programmation du point de vue de l'utilisation du langage python et de l'algorithmique, et de la qualité de la rédaction tant en ce qui concerne la présentation en LaTeX que le contenu scientifique.\n",
    "\n",
    "### Consignes pour le rendu \n",
    "\n",
    "* Travailler en binôme et déclarer ces binômes sur Teide. \n",
    "Les deux membres du binôme doivent être dans le même groupe de TP.\n",
    "* Modifier le présent *notebook* en rédigeant les réponses dans les cellules prédéfinies.\n",
    "* Renommer ce *notebook* &lt;NomBinome1-NomBinome2&gt;.ipynb et le déposer sur Teide.\n",
    "* Le *notebook* doit s'exécuter parfaitement et présenter l'analyse des résultats obtenus (et non leur paraphrase puisque les résultats sont déjà visibles dans le *notebook*) et des commentaires éventuels permettant la compréhension des choix algorithmiques effectués ou des difficultés rencontrées. \n",
    "Le compte-rendu doit néanmoins rester relativement concis.\n",
    "* Relisez-vous, soignez la présentation des figures et des formules mathématiques.\n",
    "\n",
    "<h3 align=center><font color=\"red\">Date limite de rendu : 19 novembre 2021 à 23h59</font></h3>\n",
    "\n",
    "Bon courage à tous, et <u>n'hésitez pas à faire appel aux encadrants</u> aussi souvent que nécessaire !"
   ]
  },
  {
   "cell_type": "markdown",
   "metadata": {},
   "source": [
    "## 1. Travailler dans un *notebook*\n",
    "\n",
    "Si vous lisez ce texte, c'est que vous êtes arrivés à ouvrir le *notebook*. Bravo !\n",
    "\n",
    "L'utilisation d'un *notebook* permet de réunir en un même lieu, la description du problème à résoudre et des méthodes utilisées, le code correspondant, les sorties du code et en particulier ici des graphiques, et l'analyse des résultats obtenus. C'est un des outils pour permettre la reproductibilité de résultats. \n",
    "\n",
    "### 1.1. Types de cellules\n",
    "\n",
    "Il est constitué d'une succession de cellules notamment\n",
    "* **des cellules de texte** (`Markdown`) dont le formattage est un mélande de *markdown*, d'HTML et de LaTeX. Il suffit de double-cliquer sur une telle cellule pour voir comment elle est rédigée. `Maj`-`Entrée` permet d'interpréter le contenu de la cellule.\n",
    "* **des cellules de code**, dans lesquelles ont rédige le code. Leur exécution peut afficher des résultats ou des courbes.\n",
    "\n",
    "### 1.2.  Formattage du texte\n",
    "\n",
    "N'hésitez pas à imiter ! Par exemple, dans cette cellule, vous pouvez voir comment coder en *markdown* \n",
    "* un titre (de niveau 2 et 3),\n",
    "* du texte en italique,\n",
    "* du texte en gras,\n",
    "* des commandes,\n",
    "* une liste.\n",
    "\n",
    "Dans la cellule au dessus, le changement de couleur de texte résulte de l'utilisation de commandes HTML (`<font color=red>...</font>`).\n",
    "\n",
    "LaTeX (prononcer latek...) est utilisé pour écrire les formules mathématiques, mais ce langage dépasse de loin cet usage. Il sert pour écrire des documents complets où tout le contenu et le formattage sont codés dans ce langage. Vous trouverez plus d'informations sur Chamilo. Vous trouverez également plus loin des exemples d'utilisation, dans la présentation des séries de Fourier. \n",
    "\n",
    "Pour un joli rendu, toutes les formules, même constituées d'un symbole unique, doivent être en LaTeX.\n",
    "Les formules *en ligne* doivent être encadrées par des dollars (`$formule$`). Il y a plusieurs façons de disposer des formules sur une ligne à part, ici nous utilisons `\\begin{equation}une ligne de formule\\end{equation}` pour une seule ligne et `\\begin{align}plusieurs lignes de formule\\end{align}` pour aligner plusieurs lignes séparées par `\\\\`.\n",
    "\n",
    "\n",
    "### 1.3. L'aide\n",
    "\n",
    "Dans l'onglet `Help`, vous y trouverez notamment de l'aide sur\n",
    "* le fonctionnement d'un notebook,\n",
    "* le langage markdown,\n",
    "* quelques librairies python.\n",
    "\n",
    "Vous pouvez également accéder à la documentation de python en tapant `help()`.\n",
    "Laissez-vous guider. Essayez les recherches suivantes.\n",
    "* `print`\n",
    "* `symbols`\n",
    "\n",
    "N'oubliez pas de faire `quit` à la fin..."
   ]
  },
  {
   "cell_type": "code",
   "execution_count": 1,
   "metadata": {},
   "outputs": [],
   "source": [
    "# help()"
   ]
  },
  {
   "cell_type": "markdown",
   "metadata": {},
   "source": [
    "Vous pouvez aussi directement demander l'aide d'une fonction particulière."
   ]
  },
  {
   "cell_type": "code",
   "execution_count": 2,
   "metadata": {},
   "outputs": [
    {
     "name": "stdout",
     "output_type": "stream",
     "text": [
      "Help on built-in function print in module builtins:\n",
      "\n",
      "print(...)\n",
      "    print(value, ..., sep=' ', end='\\n', file=sys.stdout, flush=False)\n",
      "    \n",
      "    Prints the values to a stream, or to sys.stdout by default.\n",
      "    Optional keyword arguments:\n",
      "    file:  a file-like object (stream); defaults to the current sys.stdout.\n",
      "    sep:   string inserted between values, default a space.\n",
      "    end:   string appended after the last value, default a newline.\n",
      "    flush: whether to forcibly flush the stream.\n",
      "\n"
     ]
    }
   ],
   "source": [
    "help(print)"
   ]
  },
  {
   "cell_type": "markdown",
   "metadata": {},
   "source": [
    "## 2. Signaux sinusoïdaux purs &mdash; premiers pas en python\n",
    "\n",
    "L'analyse de Fourier est basée sur la représentation à l'aide de signaux sinusoïdaux purs. Un signal pur de fréquence $\\lambda$ s'écrit\n",
    "\\begin{equation}\n",
    "t \\mapsto \\sin(2\\pi\\lambda t).\n",
    "\\end{equation}\n",
    "En guise d'échauffement en python, nous allons voir comment les calculer numériquement et les représenter graphiquement. \n",
    "\n",
    "### 2.1. Librairies python utiles\n",
    "\n",
    "Pour le présent TP, nous aurons besoin d'un certain nombre de librairies pour les mathématiques.\n",
    "* la commande `%matplotlib inline` permet d'effectuer les graphismes en ligne dans le *notebook*,\n",
    "* `matplotlib.pyplot` contient les fonctions pour tracer les courbes,\n",
    "* `numpy` contient les fonctions pour le travail sur les tableaux et les matrices,\n",
    "* `math` contient les fonctions mathématiques usuelles.\n",
    "\n",
    "À noter que les fonctions de base ont aussi des versions qui s'appliquent à des vecteurs terme-à-terme dans la librairie `numpy`. Pour savoir exactement ce que l'on utilise, on a intérêt à expliciter les librairies et à ne pas tout importer avec `*`.\n",
    "\n",
    "Commençons par importer les librairies nécessaires. À noter que ce qui est déjà importé dans un *notebook* n'est pas à ré-importer lors d'utilisations ultérieures. "
   ]
  },
  {
   "cell_type": "code",
   "execution_count": 3,
   "metadata": {},
   "outputs": [],
   "source": [
    "%matplotlib inline\n",
    "import matplotlib.pyplot as plt\n",
    "import numpy as np\n",
    "from math import pi, cos, sin, exp, atan"
   ]
  },
  {
   "cell_type": "markdown",
   "metadata": {},
   "source": [
    "Pour une implémentation numérique des fonctions, nous allons bien sûr devoir nous limiter à leur discrétisation, c'est-à-dire ici à leur représentation par leurs valeurs sur un ensemble discret et fini de points. Ces points ainsi que les valeurs de fonctions en ces points seront donc représentés par des vecteurs.\n",
    "\n",
    "### 2.2. Vecteurs et matrices\n",
    "\n",
    "La façon la plus simple de définir une matrice $n \\times m$ en python est d'entrer au clavier la liste de ses éléments, par exemple\n",
    "\n",
    "```\n",
    "A = np.array([[a11, a12, a13], [a21, a22, a23]])\n",
    "```\n",
    "\n",
    "**Opérations élémentaires**\n",
    "\n",
    "* `A[k, :]` $k$-ième ligne de la matrice $A$       \n",
    "* `A + B` somme\n",
    "* `np.matmul(A, B)` ou `A@B` produit matriciel\n",
    "* `A * B` produit terme à terme\n",
    "* `np.linalg.det(A)` déterminant de $A$\n",
    "* `np.transpose(A)` transposée de $A$\n",
    "* `np.linalg.inv(A)` inverse de $A$\n",
    "\n",
    "En python, la numérotation commence à 0."
   ]
  },
  {
   "cell_type": "markdown",
   "metadata": {},
   "source": [
    "#### <font color=blue>Questions : Testez les opérations sur les matrices</font>\n",
    "\n",
    "Définir la matrice\n",
    "\\begin{equation}\n",
    "    M = \\begin{pmatrix}\n",
    "      1 & 0 & 3 & 1 \\\\\n",
    "      1 & 2 & 0 & 1 \\\\\n",
    "      0 & 1 & 3 & 0 \\\\\n",
    "    \\end{pmatrix}\n",
    "\\end{equation}\n",
    "1. Quelle est la commande donnant les dimensions de la matrice $M$ ?"
   ]
  },
  {
   "cell_type": "code",
   "execution_count": 4,
   "metadata": {},
   "outputs": [
    {
     "name": "stdout",
     "output_type": "stream",
     "text": [
      "La matrice M est :\n",
      "[[1 0 3 1]\n",
      " [1 2 0 1]\n",
      " [0 1 3 0]]\n",
      "Les dimensions de cette matrice sont :  (3, 4)\n"
     ]
    }
   ],
   "source": [
    "# votre code ici\n",
    "matrix = np.array([[1, 0, 3, 1],\n",
    "              [1 ,2, 0, 1],\n",
    "              [0, 1, 3, 0]])\n",
    "\n",
    "print(\"La matrice M est :\"); print(matrix)\n",
    "print(\"Les dimensions de cette matrice sont : \", np.shape(matrix))"
   ]
  },
  {
   "cell_type": "markdown",
   "metadata": {},
   "source": [
    "2. Extraire la première ligne, la dernière colonne et l'élément à la deuxième ligne, troisième colonne de $M$."
   ]
  },
  {
   "cell_type": "code",
   "execution_count": 5,
   "metadata": {},
   "outputs": [
    {
     "name": "stdout",
     "output_type": "stream",
     "text": [
      "La première ligne est :  [1 0 3 1]\n",
      "La dernière colonne est :  [1 1 0]\n",
      "L'élément à la deuxième ligne, troisième colonnne est :  0\n"
     ]
    }
   ],
   "source": [
    "## votre code ici\n",
    "print(\"La première ligne est : \", matrix[0])\n",
    "print(\"La dernière colonne est : \", matrix[:, -1])\n",
    "print(\"L'élément à la deuxième ligne, troisième colonnne est : \", matrix[1, 2])"
   ]
  },
  {
   "cell_type": "markdown",
   "metadata": {},
   "source": [
    "3. À l'aide de fonctions de la librairie numpy, extraire la diagonale, les parties triangulaires supérieures et inférieures de $M$."
   ]
  },
  {
   "cell_type": "code",
   "execution_count": 6,
   "metadata": {},
   "outputs": [
    {
     "name": "stdout",
     "output_type": "stream",
     "text": [
      "La diagonale de la matrice est :  [1 2 3]\n",
      "La matrice triangulaire supérieure associée est : \n",
      "[[1 0 3 1]\n",
      " [0 2 0 1]\n",
      " [0 0 3 0]]\n",
      "La matrice triangulaire inférieure associée est : \n",
      "[[1 0 0 0]\n",
      " [1 2 0 0]\n",
      " [0 1 3 0]]\n"
     ]
    }
   ],
   "source": [
    "## votre code ici\n",
    "print(\"La diagonale de la matrice est : \", np.diagonal(matrix))\n",
    "print(\"La matrice triangulaire supérieure associée est : \"); print(np.triu(matrix))\n",
    "print(\"La matrice triangulaire inférieure associée est : \"); print(np.tril(matrix))"
   ]
  },
  {
   "cell_type": "markdown",
   "metadata": {},
   "source": [
    "4. En utilisant les fonctions `np.ones` et `np.diag`, définir la matrice identité $10\\times 10$.\n"
   ]
  },
  {
   "cell_type": "code",
   "execution_count": 7,
   "metadata": {},
   "outputs": [
    {
     "name": "stdout",
     "output_type": "stream",
     "text": [
      "La matrice identité de taille 10 est : \n",
      "[[1. 0. 0. 0. 0. 0. 0. 0. 0. 0.]\n",
      " [0. 1. 0. 0. 0. 0. 0. 0. 0. 0.]\n",
      " [0. 0. 1. 0. 0. 0. 0. 0. 0. 0.]\n",
      " [0. 0. 0. 1. 0. 0. 0. 0. 0. 0.]\n",
      " [0. 0. 0. 0. 1. 0. 0. 0. 0. 0.]\n",
      " [0. 0. 0. 0. 0. 1. 0. 0. 0. 0.]\n",
      " [0. 0. 0. 0. 0. 0. 1. 0. 0. 0.]\n",
      " [0. 0. 0. 0. 0. 0. 0. 1. 0. 0.]\n",
      " [0. 0. 0. 0. 0. 0. 0. 0. 1. 0.]\n",
      " [0. 0. 0. 0. 0. 0. 0. 0. 0. 1.]]\n"
     ]
    }
   ],
   "source": [
    "## votre code ici\n",
    "print(\"La matrice identité de taille 10 est : \"); print(np.diag(np.ones(10)))"
   ]
  },
  {
   "cell_type": "markdown",
   "metadata": {},
   "source": [
    "5. En utilisant ces mêmes fonctions, définir la matrice tridiagonale d'ordre $10$ suivante :\n",
    "\\begin{equation}\n",
    "      C = \\begin{pmatrix}\n",
    "          2 & -1& & \\mathbf{0} \\\\\n",
    "          1 & 2 & \\ddots & \\\\\n",
    "          & \\ddots & \\ddots & -1 \\\\\n",
    "          \\mathbf{0}& & 1 & 2 \\\\\n",
    "        \\end{pmatrix}\n",
    "\\end{equation}"
   ]
  },
  {
   "cell_type": "code",
   "execution_count": 8,
   "metadata": {},
   "outputs": [
    {
     "name": "stdout",
     "output_type": "stream",
     "text": [
      "[[ 2. -1.  0.  0.  0.  0.  0.  0.  0.  0.]\n",
      " [ 1.  2. -1.  0.  0.  0.  0.  0.  0.  0.]\n",
      " [ 0.  1.  2. -1.  0.  0.  0.  0.  0.  0.]\n",
      " [ 0.  0.  1.  2. -1.  0.  0.  0.  0.  0.]\n",
      " [ 0.  0.  0.  1.  2. -1.  0.  0.  0.  0.]\n",
      " [ 0.  0.  0.  0.  1.  2. -1.  0.  0.  0.]\n",
      " [ 0.  0.  0.  0.  0.  1.  2. -1.  0.  0.]\n",
      " [ 0.  0.  0.  0.  0.  0.  1.  2. -1.  0.]\n",
      " [ 0.  0.  0.  0.  0.  0.  0.  1.  2. -1.]\n",
      " [ 0.  0.  0.  0.  0.  0.  0.  0.  1.  2.]]\n"
     ]
    }
   ],
   "source": [
    "## votre code ici\n",
    "print(2*np.diag(np.ones(10)) - np.diag(np.ones(9), 1) + np.diag(np.ones(9), -1))"
   ]
  },
  {
   "cell_type": "markdown",
   "metadata": {},
   "source": [
    "### 2.3. Définir et tracer des fonctions\n",
    "#### 2.3.1. Définition de fonctions\n",
    "\n",
    "Considérons par exemple la fonction \n",
    "\\begin{equation}\n",
    "f(x) = \\sin(2\\pi x)+\\cos(\\pi x).\n",
    "\\end{equation}\n",
    "Nous pouvons la définir ainsi en python\n",
    "```\n",
    "def f(x):\n",
    "     return sin(2 * pi * x) + cos(pi * x)\n",
    "```\n",
    "\n",
    "#### 2.3.2. Fonctions échantillonnées (= discrétisées)\n",
    "\n",
    "Pour le calcul numérique, une fonction peut être définie uniquement en des points de discrétisation de la variable $x$. Par exemple\n",
    "\n",
    "```\n",
    "x = np.linspace(0, 1, 11)\n",
    "```\n",
    "correspond à une discrétisation par pas de $0.1=1/(11-1)$, de l'intervalle $[0,1]$, soit 11 valeurs. On définit alors la fonction sur cette grille discrète. Avec l'exemple précédent, il vaut mieux redéfinir\n",
    "```\n",
    "def f(x):\n",
    "     return np.sin(2 * pi * x) + np.cos(pi * x)\n",
    "```\n",
    "et alors il suffit d'écrire\n",
    "```\n",
    "y = f(x)\n",
    "```\n",
    "\n",
    "#### 2.3.3. Tracé de courbes\n",
    "\n",
    "Pour tracer une courbe $y=x^2$ sur l'intervalle $[a,b]$ :\n",
    "```\n",
    "x = np.linspace(a, b, n) # x est échantillonné entre a et b avec un pas de (b-a)/(n-1)\n",
    "z = x**2\n",
    "plt.plot(x, z)\n",
    "```\n",
    "\n",
    "##### Pour varier le trait ou la couleur\n",
    "\n",
    "Par exemple, pour tracer en rouge :\n",
    "```\n",
    "plt.plot(x, z, 'r-')\n",
    "```\n",
    "Dans la chaîne de caractères (troisième argument), on donne une lettre imposant la couleur (`r` pour *red*, `b` pour *blue*, `g` pour *green*...) et un symbole pour le trait (`-` pour un trait continu (par défaut), `--` pour des tirets, `:` pour des pointillés...). Pour plus de détails, voir la documentation de `matplotlib.lines.Line2D`.\n",
    "\n",
    "##### Pour tracer plusieurs courbes, rajouter un titre, des axes, une légende\n",
    "\n",
    "```\n",
    "x = np.linspace(0, 10, 101)\n",
    "plt.plot(x, np.cos(x), 'r', label='cosinus')\n",
    "plt.plot(x, np.sin(x), 'b', label='sinus')\n",
    "plt.title('Graphe des fonctions cos et sin')   # titre\n",
    "plt.xlabel('temps')\n",
    "plt.ylabel('f(t)');                            # noms des axes\n",
    "plt.legend()                                   # légende\n",
    "```\n",
    "\n",
    "##### Pour tracer plusieurs graphes dans une fenêtre\n",
    "La commande `plt.subplot(n, m, p)`, placée avant un tracé de courbe, subdivise la fenêtre du graphe en une matrice $n\\times m$ de sous-fenêtres et sélectionne la $p$-ième pour dessiner le graphe courant&nbsp;: l'élément $(i, j)$ de la matrice correspond au graphe numéro $(i-1)n + j$.\n",
    "\n",
    "##### Pour exporter une figure\n",
    "La commande `plt.savefig('<fichier', format='pdf')`permet de sauver la figure courante au format pdf. D'autres formats sont possibles."
   ]
  },
  {
   "cell_type": "markdown",
   "metadata": {},
   "source": [
    "#### <font color = blue>Question : Testez le tracé de fonctions</font>\n",
    "\n",
    "Tracer avec deux couleurs différentes les courbes de la fonction sinus sur l'intervalle $[0,2\\pi]$ pour 6 points de discrétisation et 21 points de discrétisation. \n",
    "Ajouter un titre et une légende."
   ]
  },
  {
   "cell_type": "code",
   "execution_count": 9,
   "metadata": {},
   "outputs": [
    {
     "data": {
      "image/png": "[encoded data removed]",
      "text/plain": [
       "<Figure size 432x288 with 1 Axes>"
      ]
     },
     "metadata": {
      "needs_background": "light"
     },
     "output_type": "display_data"
    }
   ],
   "source": [
    "## votre code ici\n",
    "x1 = np.linspace(0, 2*pi, 6)\n",
    "x2 = np.linspace(0, 2*pi, 21)\n",
    "plt.plot(x1, np.sin(x1), 'r', label='6 points')\n",
    "plt.plot(x2, np.sin(x2), 'b', label='21 points')\n",
    "plt.title(\"Tracé de la fonction sinus avec 6 et 21 points\")\n",
    "plt.legend()\n",
    "plt.show()"
   ]
  },
  {
   "cell_type": "markdown",
   "metadata": {},
   "source": [
    "## 3. Les séries de Fourier\n",
    "\n",
    "pour en savoir plus : <br>\n",
    "[Ber14] Maïtine Bergounioux, [*Mathématiques pour le traitement du signal*](https://beluga.univ-grenoble-alpes.fr/permalink/33UGRENOBLE_INST/rgi2mt/alma991003269059706161), 2e édition, Dunod (2014).\n",
    "<br>\n",
    "[Sch01] Michelle Schatzman, [*Analyse numérique : une approche mathématique*](https://beluga.univ-grenoble-alpes.fr/permalink/33UGRENOBLE_INST/1vb34gl/alma991005329019706161), chapitre \"Du côté de chez Fourier\", Dunod (2001).\n",
    "\n",
    "### 3.1. Notations\n",
    "\n",
    "#### Polynômes trigonométriques\n",
    "\n",
    "On appelle $\\mathbb{T}_N$ l'espace vectoriel des polynômes trigonométriques de degré au plus $N$ qui s'écrivent sous la forme \n",
    "\\begin{equation}\n",
    "\\sum_{n=-N}^N c_n \\exp\\left(2i\\pi n\\dfrac tT\\right),\n",
    "\\end{equation}\n",
    "où pour $n\\in\\{-N,\\dots,N\\}$, $c_n$ est un nombre complexe. Ces polynômes trigonométriques sont clairement des fonctions périodiques de période $T$.\n",
    "\n",
    "#### Espaces fonctionnels\n",
    "\n",
    "On note $\\mathcal{C}_{\\rm per}^k$ l'espace des fonctions $k$ fois continûment différentiables, périodiques de période $T$. Un cas particulier est $\\mathcal{C}_{\\rm per}^0$, espace des fonctions continues, pérodiques de période $T$.\n",
    "\n",
    "On note $\\mathcal{L}_{\\rm per}^1$ l'ensemble des fonctions Lebesgue-intégrables sur tout intervalle borné de $\\mathbb{R}$, périodiques de période $T$. On le munit de la norme\n",
    "\\begin{equation}\n",
    "\\|f\\|_1 = \\int_0^{T} |f(t)| dt.\n",
    "\\end{equation}\n",
    "\n",
    "On note $\\mathcal{L}_{\\rm per}^2$ l'ensemble des fonctions de carré Lebesgue-intégrables sur tout intervalle borné de $\\mathbb{R}$ (modulo les fonctions négligeables), périodiques de période $T$. On le munit de la norme\n",
    "\\begin{equation}\n",
    "\\|f\\|_2 = \\left(\\int_0^{T} |f(t)|^2 dt\\right)^{1/2}.\n",
    "\\end{equation}\n",
    "\n",
    "### 3.2. Coefficients de Fourier complexes\n",
    "\n",
    "Etant donné $f\\in\\mathcal{L}_{\\rm per}^1$, on définit le $n$-ième coefficient de Fourier par \n",
    "\\begin{equation}\n",
    "c_n(f) = \\frac 1T \\int_0^T f(t) \\exp\\left(-2i\\pi n\\dfrac tT\\right) dt.\n",
    "\\end{equation}\n",
    "On peut alors construire le polynôme trigonométrique\n",
    "\\begin{equation}\n",
    "S_N(t) = \\sum_{n=-N}^N c_n(f) \\exp\\left(2i\\pi n\\dfrac tT\\right).\n",
    "\\end{equation}\n",
    "\n",
    "Si de plus $f\\in\\mathcal{L}_{\\rm per}^2$, on peut montrer que $S_N$ réalise l'approximation au sens des moindres carrés de $f$ dans $\\mathbb{T}_N$, c'est-à-dire que\n",
    "\\begin{equation}\n",
    "\\forall P\\in\\mathbb{T}_N,\\ \\int_0^T |f-S_N|^2 dt \\leq \\int_0^T |f-P|^2 dt.\n",
    "\\end{equation}"
   ]
  },
  {
   "cell_type": "markdown",
   "metadata": {},
   "source": [
    "**<font color=blue>Question :</font>** \n",
    "Rappeler la formule de quadrature des rectangle à gauche permettant d'approcher l'intégrale $c_n(f)$ avec $J$ points de discrétisation en espace régulièrement espacés. (Cela revient à généraliser la formule vu sur la première feuille de TD pour une intégrale sur $[0,T]$)"
   ]
  },
  {
   "cell_type": "markdown",
   "metadata": {},
   "source": [
    "<font color = blue>Votre réponse ici</font>\n",
    "\\begin{equation}\n",
    "c_n(f) = \\frac 1J \\sum_{k=0}^{J-1} f\\left( \\dfrac {kT}J\\right) \\exp\\left(-2i\\pi n\\dfrac kJ\\right)\n",
    "\\end{equation}"
   ]
  },
  {
   "cell_type": "markdown",
   "metadata": {},
   "source": [
    "**<font color=blue>Question :</font>** \n",
    "Définir une fonction `discreteFourier` qui prend en entrée \n",
    "* la période $T$\n",
    "* les valeurs d'une fonction $f$ discrétisée avec $J$ points sur $[0,T]$ \n",
    "* et le degré du polynôme trigonométrique $N$ \n",
    "\n",
    "et retourne les coefficients de Fourier $c_n(f)$. "
   ]
  },
  {
   "cell_type": "code",
   "execution_count": 10,
   "metadata": {},
   "outputs": [],
   "source": [
    "## votre code ici\n",
    "def coeff_cn(n, liste_points):\n",
    "    J = len(liste_points)\n",
    "    coeff_n = 0\n",
    "    for k in range(J):\n",
    "        tmp = -2 * pi * n * k / J\n",
    "        coeff_n += liste_points[k] * (cos(tmp) + 1j * sin(tmp))\n",
    "    return (coeff_n/J)\n",
    "\n",
    "def discreteFourier(T, liste_points, N):\n",
    "    liste_coeffs = []\n",
    "    for n in range(-N, N+1):\n",
    "        liste_coeffs.append(coeff_cn(n, liste_points))\n",
    "    return liste_coeffs\n"
   ]
  },
  {
   "cell_type": "markdown",
   "metadata": {},
   "source": [
    "**<font color = blue>Question :</font>** \n",
    "Définir une fonction `invFourier` qui prend en entrée \n",
    "* la période $T$\n",
    "* des coefficients de Fourier $c_n$ \n",
    "* et le nombre $J$ de points de discrétisation en espace \n",
    "\n",
    "et retourne la somme partielle $S_N$."
   ]
  },
  {
   "cell_type": "code",
   "execution_count": 11,
   "metadata": {},
   "outputs": [],
   "source": [
    "## votre code ici\n",
    "def invFourier(T, coeffs_c, J):\n",
    "    N = int((len(coeffs_c) - 1) / 2)\n",
    "    somme_partielle = 0\n",
    "    for n in range(-N, N+1):\n",
    "        t = n * T /(J-1)\n",
    "        somme_partielle += coeffs_c[n + N] * (np.cos(-2*pi**n*t/T) + np.sin(-2*pi**n*t/T)*1j)\n",
    "    return somme_partielle\n"
   ]
  },
  {
   "cell_type": "markdown",
   "metadata": {},
   "source": [
    "### 3.3. Un exemple\n",
    "\n",
    "Soient $0<a\\leq T$ et un signal créneau, c'est-à-dire la fonction périodique de période $T$ définie sur $[-T/2,T/2]$ par\n",
    "\\begin{equation}\n",
    "f(t) = \\begin{cases}\n",
    "A & \\text{sur } \\left[-\\dfrac a2,\\dfrac a2\\right], \\\\\n",
    "& \\text{ailleurs.}\n",
    "\\end{cases}\n",
    "\\end{equation}"
   ]
  },
  {
   "cell_type": "markdown",
   "metadata": {},
   "source": [
    "**<font color = blue>Question :</font>** \n",
    "Définir cette fonction comme fonction python qui dépend de $t$, $a$, $T$ et $A$.<br>\n",
    "Tracer cette fonction sur l'intervalle $[-T,T]$, pour les valeurs $T=2$, $a=0,4$, $A=1,5$.\n",
    "(On gardera ces valeurs pour les illustrations numériques qui suivront.)"
   ]
  },
  {
   "cell_type": "code",
   "execution_count": 12,
   "metadata": {},
   "outputs": [
    {
     "data": {
      "image/png": "[encoded data removed]",
      "text/plain": [
       "<Figure size 432x288 with 1 Axes>"
      ]
     },
     "metadata": {
      "needs_background": "light"
     },
     "output_type": "display_data"
    }
   ],
   "source": [
    "## votre code ici\n",
    "def creneau(t, a, T, A):\n",
    "    if (t+a/2)%T <= a:\n",
    "        return A\n",
    "    return 0\n",
    "\n",
    "\n",
    "t = np.linspace(-2, 2, 200)\n",
    "\n",
    "plt.plot(t, [creneau(point, 0.4, 2, 1.5) for point in t], 'b', label='creneau')\n",
    "plt.legend()\n",
    "plt.plot()\n",
    "plt.show()\n"
   ]
  },
  {
   "cell_type": "markdown",
   "metadata": {},
   "source": [
    "**<font color = blue>Question :</font>** \n",
    "Calculer les coefficients de Fourier $c_n(f)$. "
   ]
  },
  {
   "cell_type": "markdown",
   "metadata": {},
   "source": [
    "<font color = blue>Votre réponse ici</font>\n",
    "\n",
    "Pour $ n \\neq 0 $,\n",
    "\\begin{align*}\n",
    "c_n(f) &= \\frac 1T \\int_0^T f(t) \\exp\\left(-2i\\pi n\\dfrac tT\\right) dt \\\\\n",
    "&= \\frac 1T \\int_{-T/2}^{T/2} f(t) \\exp\\left(-2i\\pi n\\dfrac tT\\right) dt \\\\\n",
    "&= \\frac 1T \\int_{-a/2}^{a/2} A \\exp\\left(-2i\\pi n\\dfrac tT\\right) dt \\\\\n",
    "&= \\frac AT \\left[ \\frac {-T}{2i\\pi n} \\exp\\left(-2i\\pi n\\dfrac tT\\right) \\right]_{-a/2}^{a/2} \\\\\n",
    "&= \\frac {Ai}{2\\pi n} \\left( \\exp\\left(\\dfrac{-ai\\pi n}T \\right) - \\exp\\left(\\dfrac{ai\\pi n}T \\right) \\right) \\\\\n",
    "&= \\frac {-A}{\\pi n} \\cdot \\frac{\\left( \\exp\\left(\\dfrac{-ai\\pi n}T \\right) - \\exp\\left(\\dfrac{ai\\pi n}T \\right) \\right)}{2i} \\\\\n",
    "&= \\frac {A}{n\\pi} \\cdot \\sin\\left(\\dfrac{an\\pi}T\\right)\n",
    "\\end{align*}\n",
    "\n",
    "Pour $ n= 0 $,\n",
    "\\begin{align*}\n",
    "c_n(f) &= \\frac 1T \\int_{-a/2}^{a/2} A \\exp\\left(-2i\\pi 0\\dfrac tT\\right) dt \\\\\n",
    "&= \\frac AT \\int_{-a/2}^{a/2} 1 dt \\\\\n",
    "&= \\frac{Aa}{T}\n",
    "\\end{align*}"
   ]
  },
  {
   "cell_type": "markdown",
   "metadata": {},
   "source": [
    "**<font color = blue>Question :</font>** \n",
    "Calculer ces valeurs en utilisant `discreteFourier`.\n",
    "On prendra $J=100$ points de discrétisation.\n",
    "Que pensez-vous de l'approximation ?"
   ]
  },
  {
   "cell_type": "code",
   "execution_count": 13,
   "metadata": {},
   "outputs": [],
   "source": [
    "def coeff_n(n):\n",
    "    a = 0.4\n",
    "    A = 1.5\n",
    "    T = 2\n",
    "    if n == 0:\n",
    "        return A*a/T\n",
    "    return A/n/pi*sin(a*pi*n/T)"
   ]
  },
  {
   "cell_type": "code",
   "execution_count": 14,
   "metadata": {},
   "outputs": [
    {
     "data": {
      "image/png": "[encoded data removed]",
      "text/plain": [
       "<Figure size 432x288 with 1 Axes>"
      ]
     },
     "metadata": {
      "needs_background": "light"
     },
     "output_type": "display_data"
    }
   ],
   "source": [
    "## votre code ici\n",
    "N = 20 # Choisi arbitrairement\n",
    "\n",
    "t = np.linspace(0, 2, 100)\n",
    "liste_valeurs = [creneau(point, 0.4, 2, 1.5) for point in t]\n",
    "\n",
    "coeffs = discreteFourier(2, liste_valeurs, N)\n",
    "plt.plot(range(-N,N+1), [coeffs[n].real - coeff_n(n-N) for n in range(2*N+1)], 'r--', label='erreur entre la valeur théorique et expérimentale')\n",
    "plt.legend()\n",
    "plt.title(f'Graphe montrant l\\'erreur entre la valeur calculée mathématiquement et la valeur calculée approximativement des coefficients c_n, allant de {-N} à {N}')\n",
    "plt.show()"
   ]
  },
  {
   "cell_type": "markdown",
   "metadata": {},
   "source": [
    "<font color = blue>Votre commentaire ici </font>\n",
    "\n",
    "On voit que le calcul des coefficients avec *discreteFourier* est approximatif, par exemple les parties imaginaires ne sont pas nulles mais très petites.\n",
    "Cependant, on voit que en calculant toutes les valeurs de $ c_n(f) $ par le calcul, on retrouve les mêmes résultat !\n",
    "\n",
    "La différence entre les deux est très petite\n"
   ]
  },
  {
   "cell_type": "markdown",
   "metadata": {},
   "source": [
    "### 3.4. Coefficients réels\n",
    "\n",
    "Reprenons une fonction $f$ générique.\n",
    "En utilisant les formules d'Euler, on peut réécrire l'expression de $S_N$ sous la forme\n",
    "\\begin{equation}\n",
    "S_N(t) = a_0(f) + \\sum_{n=1}^N \\left(a_n(f) \\cos\\left(2\\pi n \\dfrac tT\\right) + b_n(f) \\sin\\left(2\\pi n \\dfrac tT\\right) \\right).\n",
    "\\end{equation} "
   ]
  },
  {
   "cell_type": "markdown",
   "metadata": {},
   "source": [
    "**<font color = blue>Question :</font>** \n",
    "Calculer les valeurs des $a_n(f)$ et des $b_n(f)$ en fonction des $c_n(f)$."
   ]
  },
  {
   "cell_type": "markdown",
   "metadata": {},
   "source": [
    "<font color = blue>Votre réponse ici</font>\n",
    "\n",
    "On trouve par le calcul que $a_0(f) = c_o(f)$ et $b_0(f) = 0 \\\\ $\n",
    "De plus, on a :\n",
    "$\\forall n > 0, \\\\ a_n(f) = c_n(f) + c_{-n}(f) \\\\ $ \n",
    "et $ b_n(f) = i(c_n(f) - c_{-n}(f)) $"
   ]
  },
  {
   "cell_type": "markdown",
   "metadata": {},
   "source": [
    "On peut également l'écrire\n",
    "\\begin{equation}\n",
    "S_N(t) = A_0(f) + \\sum_{n=1}^N A_n(f) \\cos(2\\pi n \\lambda t + \\varphi_n(f)).\n",
    "\\end{equation} "
   ]
  },
  {
   "cell_type": "markdown",
   "metadata": {},
   "source": [
    "**<font color = blue>Question :</font>** \n",
    "Calculer les valeurs des $A_n(f)$ et des $\\varphi_n(f)$ en fonction des $a_n(f)$ et des $b_n(f)$ d'une part, puis en fonction des $c_n(f)$."
   ]
  },
  {
   "cell_type": "markdown",
   "metadata": {},
   "source": [
    "<font color = blue>Votre réponse ici</font> \n",
    "\n",
    "On trouve directement que $ A_0(f) = a_0(f) \\\\ $\n",
    "Pour tout n, on a :\n",
    "\\begin{align*}\n",
    "A_n(f) \\cos(2\\pi n \\lambda t + \\varphi_n(f)) &= A_n(f) \\cos(2\\pi n \\lambda t)\\cdot \\cos(\\varphi_n(f)) - A_n(f)\\sin(2\\pi n \\lambda t)\\cdot \\sin(\\varphi_n(f)) \\\\\n",
    "&= \\left(a_n(f) \\cos\\left(2\\pi n \\dfrac tT\\right) + b_n(f) \\sin\\left(2\\pi n \\dfrac tT\\right) \\right)\n",
    "\\end{align*}\n",
    "\n",
    "Avec $ \\cos(\\varphi_n(f)) = \\frac {a_n(f)}{A_n(f)} \\quad et \\quad \\sin(\\varphi_n(f)) = - \\frac {b_n(f)}{A_n(f)} \\quad et \\quad A_n(f) = \\sqrt{a_n(f)^2 + b_n(f)^2} $,\n",
    "\\begin{align*}\n",
    "A_n(f) \\cos(2\\pi n \\lambda t + \\varphi_n(f)) &= A_n(f) \\cos(2\\pi n \\lambda t)\\cdot \\frac {a_n(f)}{A_n(f)} - A_n(f)\\sin(2\\pi n \\lambda t)\\cdot - \\frac {b_n(f)}{A_n(f)} \\\\\n",
    "&= a_n(f) \\cos\\left(2\\pi n \\lambda t\\right) + b_n(f) \\sin\\left(2\\pi n \\lambda t\\right) \n",
    "\\end{align*}\n",
    "\n",
    "Alors, en reprenant les expressions de $ a_n(f) $ et $ b_n(f) $ en fonction de $ c_n(f) $, on a :\n",
    "\\begin{align*}\n",
    "A_n(f) \\cos(2\\pi n \\lambda t + \\varphi_n(f)) &= \\left( c_n(f) + c_{-n}(f) \\right) \\cos\\left(2\\pi n \\lambda t\\right) + \\left( c_n(f) - c_{-n}(f) \\right) i \\sin\\left(2\\pi n \\lambda t\\right) \\\\\n",
    "&= c_n(f) \\cdot \\left( \\cos\\left(2\\pi n \\lambda t\\right) + i \\sin\\left(2\\pi n \\lambda t\\right) \\right) + c_{-n}(f) \\cdot \\left( \\cos\\left(2\\pi n \\lambda t\\right) - i \\sin\\left(2\\pi n \\lambda t\\right) \\right) \\\\\n",
    "&= c_n(f) \\cdot exp(2\\pi n \\lambda t) + c_{-n}(f) \\cdot exp(-2\\pi n \\lambda t)\n",
    "\\end{align*}"
   ]
  },
  {
   "cell_type": "markdown",
   "metadata": {},
   "source": [
    "**<font color = blue>Question :</font>** \n",
    "Représenter sur deux graphes côte-à-côte, $|c_n(f)|$ en fonction de $n$ et $\\arg(c_n(f))$ en fonction de $n$ pour la fonction créneau précédemment définie. "
   ]
  },
  {
   "cell_type": "code",
   "execution_count": 25,
   "metadata": {},
   "outputs": [
    {
     "data": {
      "image/png": "[encoded data removed]",
      "text/plain": [
       "<Figure size 432x288 with 2 Axes>"
      ]
     },
     "metadata": {
      "needs_background": "light"
     },
     "output_type": "display_data"
    }
   ],
   "source": [
    "## votre code ici\n",
    "\n",
    "# Avec les résultats précédents :\n",
    "N = 20\n",
    "t = np.linspace(0, 2, 1000)\n",
    "y = [creneau(point, 0.4, 2, 1.5) for point in t]\n",
    "liste_coeffs = discreteFourier(2, y, N)\n",
    "liste_points = np.linspace(-N, N, 2*N+1)\n",
    "\n",
    "def module(z):\n",
    "    return abs(z)\n",
    "\n",
    "def argument(z):\n",
    "    if abs(z.imag) < 10**(-2): # Problemes d'arrondi\n",
    "        z = complex(z.real, 0)\n",
    "    return np.angle(z)\n",
    "\n",
    "fig, [ax1, ax2] = plt.subplots(1, 2)\n",
    "\n",
    "ax1.plot(liste_points, [module(coeff) for coeff in liste_coeffs], 'r', label='Module de c_n')\n",
    "ax2.plot(liste_points, [argument(coeff) for coeff in liste_coeffs], 'b', label='Argument de c_n')\n",
    "plt.legend()\n",
    "plt.title(\"Module (gauche) et argument (droite) des coefficients c_n\", loc='right')\n",
    "plt.show()\n"
   ]
  },
  {
   "cell_type": "markdown",
   "metadata": {},
   "source": [
    "### 3.4. Convergence\n",
    "\n",
    "Tout l'intérêt des séries de Fourier est qu'elles convergent en un certain sens vers la fonction de départ. \n",
    "\n",
    "#### Inégalité de Bessel\n",
    "\n",
    "Soit $f\\in\\mathcal{L}_{\\rm per}^2(0,T)$ alors \n",
    "\\begin{equation}\n",
    "\\sum_{n=-N}^N |c_n|^2 \\leq \\frac1T \\int_0^T |f(t)|^2 dt.\n",
    "\\end{equation}\n",
    "\n",
    "#### Convergence des sommes partielles\n",
    "\n",
    "Par ailleurs la suite $S_N$ des polynômes trigonomériques de meilleure approximation dans $\\mathbb{T}_N$ converge vers $f$ dans $\\mathcal{L}_{\\rm per}^2(0,T)$ :\n",
    "\\begin{equation}\n",
    "\\lim_{N\\to\\infty} \\|f-S_N\\|_2 = 0.  \n",
    "\\end{equation}\n",
    "Cela veut dire que la série $\\sum_n c_n(f)\\exp(2i\\pi n t/T)$ converge normalement et donc presque partout vers $f$.\n",
    "\n",
    "#### Égalité de Parseval\n",
    "\n",
    "Soit $f\\in\\mathcal{L}_{\\rm per}^2(0,T)$ alors \n",
    "\\begin{equation}\n",
    "\\sum_{n=-\\infty}^\\infty |c_n|^2 = \\frac1T \\int_0^T |f(t)|^2 dt.\n",
    "\\end{equation}"
   ]
  },
  {
   "cell_type": "markdown",
   "metadata": {},
   "source": [
    "**<font color = blue>Question :</font>** \n",
    "Illustrer graphiquement l'inégalité de Bessel et l'égalité de Parseval sur l'exemple de la fonction créneau. "
   ]
  },
  {
   "cell_type": "code",
   "execution_count": 16,
   "metadata": {},
   "outputs": [
    {
     "data": {
      "image/png": "[encoded data removed]",
      "text/plain": [
       "<Figure size 432x288 with 1 Axes>"
      ]
     },
     "metadata": {
      "needs_background": "light"
     },
     "output_type": "display_data"
    }
   ],
   "source": [
    "## votre code ici\n",
    "from scipy.integrate import quad\n",
    "T = 2\n",
    "a = 0.4\n",
    "A = 1.5\n",
    "\n",
    "def f(x):\n",
    "    return 1/T*creneau(x, a, T, A)**2\n",
    "\n",
    "I = quad(f, 0, T)[0]\n",
    "plt.axhline(I, color='orange', label='Approximation de l\\'intégrale')\n",
    "\n",
    "number = 100\n",
    "POINTS = np.linspace(0, 2, number*2)\n",
    "\n",
    "def draw_points(num: int):\n",
    "    x_points = np.ones(num)\n",
    "    for N in range(num):\n",
    "        points = discreteFourier(2, [creneau(t, 0.4, 2, 1.5) for t in POINTS], N)\n",
    "        summ = 0\n",
    "        for point in points:\n",
    "            summ += point.real**2 + point.imag**2\n",
    "        x_points[N] = summ\n",
    "    return x_points\n",
    "plt.plot(np.array([i for i in range(number)]), draw_points(number), label='Calcul de la somme')\n",
    "plt.legend()\n",
    "plt.title('Interprétation graphique de l\\'inégalité de Bessel et de Parseval')\n",
    "plt.show()\n",
    "\n",
    "#print(draw_points(10))"
   ]
  },
  {
   "cell_type": "markdown",
   "metadata": {},
   "source": [
    "<font color = blue>Votre commentaire ici</font>"
   ]
  },
  {
   "cell_type": "markdown",
   "metadata": {},
   "source": [
    "#### Théorème de Dirichlet\n",
    "\n",
    "Soit $f\\in\\mathcal{L}_{\\rm per}^1(0,T)$ et $t_0$ tel que $f$ admette une limite à droite et à gauche en $t_0$, respectivement notées $f(t_0^+)$ et $f(t_0^-)$ alors \n",
    "\\begin{equation}\n",
    "\\lim_{N\\to\\infty} \\sum_{n=-N}^N c_n(f)\\exp\\left(2i\\pi n \\dfrac {t_0}T\\right) = \\dfrac{f(t_0^+)+f(t_0^-)}2 \n",
    "\\end{equation}"
   ]
  },
  {
   "cell_type": "markdown",
   "metadata": {},
   "source": [
    "**<font color = blue>Question :</font>**  \n",
    "Toujours avec $N=10$ et $J=100$. Sur un même graphique, tracer la fonction créneau et sa somme de Fourier partielle de degré $N$."
   ]
  },
  {
   "cell_type": "code",
   "execution_count": 41,
   "metadata": {},
   "outputs": [
    {
     "name": "stdout",
     "output_type": "stream",
     "text": [
      "t 0.0 value (1.3641244705167883+8.673617379884035e-18j)\n",
      "t 0.020202020202020204 value (1.132565166167831+0.14958905534108424j)\n",
      "t 0.04040404040404041 value (0.4581374071208372+0.2630161369730056j)\n",
      "t 0.06060606060606061 value (-0.43817013225063056+0.31597105909240586j)\n",
      "t 0.08080808080808081 value (-1.2643319759655234+0.29993588381146935j)\n",
      "t 0.10101010101010102 value (-1.7552160321569583+0.2233568198869672j)\n",
      "t 0.12121212121212122 value (-1.7595450674424133+0.10822702454024438j)\n",
      "t 0.14141414141414144 value (-1.2863712250230406-0.016668623439024977j)\n",
      "t 0.16161616161616163 value (-0.4962367950678404-0.12370894572809615j)\n",
      "t 0.18181818181818182 value (0.3582027874807213-0.19326577613022125j)\n",
      "t 0.20202020202020204 value (1.0198889779332678-0.21760553652858167j)\n",
      "t 0.22222222222222224 value (1.312107791447644-0.2010866847036453j)\n",
      "t 0.24242424242424243 value (1.1912468075285139-0.1570447190540447j)\n",
      "t 0.26262626262626265 value (0.7510011773636378-0.10269046194647014j)\n",
      "t 0.2828282828282829 value (0.17932390093583-0.053775900018495804j)\n",
      "t 0.30303030303030304 value (-0.31395909153102686-0.02062008528963917j)\n",
      "t 0.32323232323232326 value (-0.5715050879896508-0.006450009940982215j)\n",
      "t 0.3434343434343435 value (-0.5382797407595176-0.008156465890006348j)\n",
      "t 0.36363636363636365 value (-0.27075360826270223-0.018795514692539483j)\n",
      "t 0.38383838383838387 value (0.09491557449163851-0.03072322356731491j)\n",
      "t 0.4040404040404041 value (0.40110084692626397-0.03823830417242537j)\n",
      "t 0.42424242424242425 value (0.5299260918182889-0.038969559856493585j)\n",
      "t 0.4444444444444445 value (0.44447749281145255-0.03380613783055081j)\n",
      "t 0.4646464646464647 value (0.1959544829286526-0.025705825682764527j)\n",
      "t 0.48484848484848486 value (-0.10355300271293152-0.01804532137037479j)\n",
      "t 0.5050505050505051 value (-0.3298825241883407-0.013211354460066736j)\n",
      "t 0.5252525252525253 value (-0.39693072833618526-0.011905774142771997j)\n",
      "t 0.5454545454545455 value (-0.28849657047639055-0.013275665367361078j)\n",
      "t 0.5656565656565657 value (-0.06044485470532859-0.01563915840614638j)\n",
      "t 0.5858585858585859 value (0.18598187686662293-0.01738632050670183j)\n",
      "t 0.6060606060606061 value (0.34757249959272374-0.017644132820464453j)\n",
      "t 0.6262626262626263 value (0.36113089937298926-0.01647030048768408j)\n",
      "t 0.6464646464646465 value (0.22729411279272288-0.014585584961326392j)\n",
      "t 0.6666666666666667 value (0.007422368886111613-0.012855920023263134j)\n",
      "t 0.686868686868687 value (-0.20405898128666086-0.011813597671744502j)\n",
      "t 0.7070707070707072 value (-0.31971409163820036-0.011443406668668013j)\n",
      "t 0.7272727272727273 value (-0.29483932199891993-0.011300308560303396j)\n",
      "t 0.7474747474747475 value (-0.1444942211619702-0.010853226499647595j)\n",
      "t 0.7676767676767677 value (0.06453928806219345-0.00984589576626177j)\n",
      "t 0.787878787878788 value (0.24285305608201285-0.008473665505092917j)\n",
      "t 0.8080808080808082 value (0.31607708687244973-0.00728315450336825j)\n",
      "t 0.8282828282828284 value (0.2554346401597985-0.0068520403645549455j)\n",
      "t 0.8484848484848485 value (0.0887723473170302-0.007423799287669619j)\n",
      "t 0.8686868686868687 value (-0.11209308638306884-0.008699665686763502j)\n",
      "t 0.888888888888889 value (-0.26206740603998346-0.009914344500980055j)\n",
      "t 0.9090909090909092 value (-0.2985363950203025-0.010179596231329663j)\n",
      "t 0.9292929292929294 value (-0.20731021236007563-0.008939520187480648j)\n",
      "t 0.9494949494949496 value (-0.02810497069218505-0.006312164051559099j)\n",
      "t 0.9696969696969697 value (0.16252530112648517-0.0031308081415317435j)\n",
      "t 0.98989898989899 value (0.28354595711212055-0.0006315978429636965j)\n",
      "t 1.0101010101010102 value (0.283537468322198+9.66337205916129e-05j)\n",
      "t 1.0303030303030305 value (0.16231223820999707-0.0013419329153619708j)\n",
      "t 1.0505050505050506 value (-0.028954365471537947-0.004372046717079137j)\n",
      "t 1.0707070707070707 value (-0.20915457623748476-0.007598097398052811j)\n",
      "t 1.090909090909091 value (-0.30134550967047663-0.009358225314069685j)\n",
      "t 1.1111111111111112 value (-0.26530826210368696-0.008465463573100268j)\n",
      "t 1.1313131313131315 value (-0.11492022205953115-0.004811648871720808j)\n",
      "t 1.1515151515151516 value (0.08708265753905178+0.00045880315900387325j)\n",
      "t 1.1717171717171717 value (0.2550138938969849+0.005330191067103779j)\n",
      "t 1.191919191919192 value (0.31621807524580725+0.007736576110382712j)\n",
      "t 1.2121212121212122 value (0.242168771241035+0.006496554300440258j)\n",
      "t 1.2323232323232325 value (0.061523255260889725+0.001951445329761603j)\n",
      "t 1.2525252525252526 value (-0.15072093369271888-0.0040123293439389696j)\n",
      "t 1.272727272727273 value (-0.30394291949831453-0.008633789387762103j)\n",
      "t 1.292929292929293 value (-0.3300530748452596-0.009417573020097603j)\n",
      "t 1.3131313131313131 value (-0.21322191395491746-0.005288228484698607j)\n",
      "t 1.3333333333333335 value (0.0015893243651934896+0.002752790550223483j)\n",
      "t 1.3535353535353536 value (0.22557607822339507+0.011816641211877477j)\n",
      "t 1.373737373737374 value (0.3622686757344805+0.018180435869461636j)\n",
      "t 1.393939393939394 value (0.34842831375236716+0.018845955645720065j)\n",
      "t 1.4141414141414144 value (0.18263033018007876+0.012982439563989923j)\n",
      "t 1.4343434343434345 value (-0.07103264052439018+0.002606666503227495j)\n",
      "t 1.4545454545454546 value (-0.306843558119628-0.007897887089392763j)\n",
      "t 1.474747474747475 value (-0.4202796000024004-0.013373002010306057j)\n",
      "t 1.494949494949495 value (-0.3527846392912052-0.01005705362141198j)\n",
      "t 1.5151515151515154 value (-0.11984101628821658+0.0025147317956846493j)\n",
      "t 1.5353535353535355 value (0.19039975831848457+0.020736155952674973j)\n",
      "t 1.5555555555555556 value (0.4492235802243202+0.03778857802822283j)\n",
      "t 1.575757575757576 value (0.5389125869876568+0.04603661776991683j)\n",
      "t 1.595959595959596 value (0.4037952758436666+0.04022217015339335j)\n",
      "t 1.6161616161616164 value (0.07975281991599933+0.020284430308775747j)\n",
      "t 1.6363636363636365 value (-0.3115055579874695-0.007394173139092575j)\n",
      "t 1.6565656565656568 value (-0.6038151454414262-0.031079788813077935j)\n",
      "t 1.676767676767677 value (-0.6497665895963491-0.03709352014779668j)\n",
      "t 1.696969696969697 value (-0.38233598132161-0.01463065141611681j)\n",
      "t 1.7171717171717173 value (0.14945996243156134+0.03956060311467921j)\n",
      "t 1.7373737373737375 value (0.786792025853253+0.11835415758336154j)\n",
      "t 1.7575757575757578 value (1.3099050773571845+0.2045483244464184j)\n",
      "t 1.777777777777778 value (1.5141631000035147+0.2746288026934568j)\n",
      "t 1.7979797979797982 value (1.2865137292411633+0.305173549391584j)\n",
      "t 1.8181818181818183 value (0.6539361830366839+0.2801009359120742j)\n",
      "t 1.8383838383838385 value (-0.21566434797259382+0.19650743726467074j)\n",
      "t 1.8585858585858588 value (-1.0630688748293742+0.06710368335321718j)\n",
      "t 1.878787878787879 value (-1.6224486081918121-0.08180384780357214j)\n",
      "t 1.8989898989898992 value (-1.7123503304375536-0.21649782254676683j)\n",
      "t 1.9191919191919193 value (-1.3008309300401077-0.3045938501718438j)\n",
      "t 1.9393939393939394 value (-0.5208645420650126-0.32386741781642864j)\n",
      "t 1.9595959595959598 value (0.3707533090541466-0.2685695598249379j)\n",
      "t 1.97979797979798 value (1.0778703631391517-0.15132528253107122j)\n",
      "t 2.0 value (1.3641244705167883-6.029490953141746e-16j)\n"
     ]
    },
    {
     "name": "stderr",
     "output_type": "stream",
     "text": [
      "/usr/lib/python3/dist-packages/numpy/core/_asarray.py:83: ComplexWarning: Casting complex values to real discards the imaginary part\n",
      "  return array(a, dtype, copy=False, order=order)\n"
     ]
    },
    {
     "data": {
      "image/png": "[encoded data removed]",
      "text/plain": [
       "<Figure size 432x288 with 1 Axes>"
      ]
     },
     "metadata": {
      "needs_background": "light"
     },
     "output_type": "display_data"
    }
   ],
   "source": [
    "## votre code ici\n",
    "\n",
    "def draw_points(N: int, J: int, T: int, t: int):\n",
    "    x_points = np.linspace(0, T, J)\n",
    "    value = 0\n",
    "    for n in range(-N, N+1):\n",
    "        cn = discreteFourier(T, [creneau(x, 0.4, T, 1.5) for x in x_points], N)[n]\n",
    "        value += cn*(cos(2*pi*n*t/T) + 1j*sin(2*pi*n*t/T))\n",
    "    print(\"t\", t,\"value\", value)\n",
    "    return value\n",
    "\n",
    "x_points = np.linspace(0, 2, 100)\n",
    "points = [draw_points(10, 100, 2, t) for t in x_points]\n",
    "points2 = [creneau(t, 0.4, 2, 1.5) for t in x_points]\n",
    "plt.plot(np.linspace(0, 2, 100), points)\n",
    "plt.plot(np.linspace(0, 2, 100), points2)\n",
    "plt.show()"
   ]
  },
  {
   "cell_type": "markdown",
   "metadata": {},
   "source": [
    "## 4. Et si on allait plus loin ?"
   ]
  },
  {
   "cell_type": "markdown",
   "metadata": {},
   "source": [
    "Pour la suite, on vous propose trois pistes d'exploration libre.\n",
    "\n",
    "### Faire varier les paramètres de discrétisation\n",
    "\n",
    "Dans tout ce qui précède on avait fixé la valeur du nombre de modes de Fourier $N$ et du nombre de points de discrtéisation en temps $J$. Reprendre les différentes observation ci-dessus et commenter l'impact du choix de ces paramètres numériques sur les résultats.\n",
    "\n",
    "### Faire varier $a$.\n",
    "\n",
    "Le spectre obtenu dans l'exemple donné dépend bien sûr de $a$. Analyser et trouver une représentation graphique de la modification du spectre quand on fait varier $a$ dans sa plage de valeurs admissibles.\n",
    "\n",
    "### Changer la fonction\n",
    "\n",
    "Tester l'approximation par série de Fourier d'autres fonctions que la fonction créneau."
   ]
  },
  {
   "cell_type": "code",
   "execution_count": 18,
   "metadata": {},
   "outputs": [],
   "source": [
    "## votre code ici (créez autant de cellulles que nécessaire)"
   ]
  }
 ],
 "metadata": {
  "kernelspec": {
   "display_name": "Python 3",
   "language": "python",
   "name": "python3"
  },
  "language_info": {
   "codemirror_mode": {
    "name": "ipython",
    "version": 3
   },
   "file_extension": ".py",
   "mimetype": "text/x-python",
   "name": "python",
   "nbconvert_exporter": "python",
   "pygments_lexer": "ipython3",
   "version": "3.9.7"
  }
 },
 "nbformat": 4,
 "nbformat_minor": 4
}
